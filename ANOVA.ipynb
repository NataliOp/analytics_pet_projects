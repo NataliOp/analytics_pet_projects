{
 "cells": [
  {
   "cell_type": "markdown",
   "id": "12338322-9efe-41c5-8c79-cbf40b98869f",
   "metadata": {},
   "source": [
    "### Описание задачи\n",
    "Сеть ресторанов быстрого питания планирует добавить новый пункт в свое меню. Однако они все еще не определились между тремя возможными маркетинговыми кампаниями для продвижения нового продукта. Чтобы определить, какая акция окажет наибольшее влияние на продажи, новый пункт вводится в точках на нескольких случайно выбранных рынках. В каждой точке используется разная акция, и еженедельные продажи нового пункта регистрируются в течение первых четырех недель.\n",
    "####  Цель\n",
    "Оценить результаты A/B-тестирования и решить, какая маркетинговая стратегия является наилучшей.\n",
    "#### Описание датасета:\n",
    "1. MarketID - уникальный идентификатор магазина.\n",
    "2. MarketSize - размер рыночной площади по объемам продаж.\n",
    "3. LocationID - уникальный идентификатор местоположения магазина.\n",
    "4. AgeOfStore - возраст магазина в годах.\n",
    "5. Promotion - одна из трех протестированных акций.\n",
    "6. week - одна из четырех недель, когда проводились акции.\n",
    "7. SalesInThousands - объем продаж для определенного LocationID, Promotion, week.\n",
    "#### Ход решения\n",
    "1. [Загрузка датасета](#first_part).\n",
    "2. [Разведочный анализ данных](#sec_part).\n",
    "3. [Дисперсионный анализ (ANOVA)](#th_part).\n",
    "4. [Выводы](#four_part)."
   ]
  },
  {
   "cell_type": "markdown",
   "id": "a4a28240-669b-4ea0-9758-ae153edbb081",
   "metadata": {},
   "source": [
    "### <a id=\"first_part\"></a> 1. Загрузка датасета"
   ]
  },
  {
   "cell_type": "code",
   "execution_count": 238,
   "id": "7fdc399e-b179-48fb-b6cc-92897b9dd240",
   "metadata": {},
   "outputs": [],
   "source": [
    "import os\n",
    "import kagglehub\n",
    "import pandas as pd\n",
    "import matplotlib.pyplot as plt\n",
    "import seaborn as sns\n",
    "import plotly.express as px\n",
    "from scipy.stats import levene, shapiro, kruskal\n",
    "import pingouin as pg"
   ]
  },
  {
   "cell_type": "code",
   "execution_count": 23,
   "id": "6327ac60-412e-4c12-8f07-cb0628d6cb9f",
   "metadata": {},
   "outputs": [
    {
     "name": "stdout",
     "output_type": "stream",
     "text": [
      "Path to dataset files: C:\\Users\\Natalia\\.cache\\kagglehub\\datasets\\chebotinaa\\fast-food-marketing-campaign-ab-test\\versions\\1\n"
     ]
    }
   ],
   "source": [
    "# скачиваем датасет из Kaggle - получаем путь к папке\n",
    "path_folder = kagglehub.dataset_download(\"chebotinaa/fast-food-marketing-campaign-ab-test\")\n",
    "print(f'Path to dataset files: {path}')"
   ]
  },
  {
   "cell_type": "code",
   "execution_count": 27,
   "id": "a88ae51e-5ca3-492f-b032-438ca6afe3af",
   "metadata": {},
   "outputs": [],
   "source": [
    "# получаем путь к файлу .csv\n",
    "for address, dirs, files in os.walk(path_folder):\n",
    "    for name in files:\n",
    "        path_file = os.path.join(address, name)"
   ]
  },
  {
   "cell_type": "code",
   "execution_count": 29,
   "id": "b6f55c5e-5906-442b-ab6f-b0622c6194a5",
   "metadata": {},
   "outputs": [],
   "source": [
    "# получаем DataFrame\n",
    "df = pd.read_csv(path_file)"
   ]
  },
  {
   "cell_type": "markdown",
   "id": "5993381f-344c-486d-8d8b-20e4645b2af3",
   "metadata": {},
   "source": [
    "### <a id=\"sec_part\"></a> 2. Разведочный анализ данных"
   ]
  },
  {
   "cell_type": "markdown",
   "id": "af950e66-8604-4278-adc7-ea781692b99b",
   "metadata": {},
   "source": [
    "##### Типы переменных, пропущенные наблюдения, дубликаты"
   ]
  },
  {
   "cell_type": "code",
   "execution_count": 30,
   "id": "323ffd04-79b4-45e5-a459-ff4f4c416098",
   "metadata": {},
   "outputs": [
    {
     "name": "stdout",
     "output_type": "stream",
     "text": [
      "<class 'pandas.core.frame.DataFrame'>\n",
      "RangeIndex: 548 entries, 0 to 547\n",
      "Data columns (total 7 columns):\n",
      " #   Column            Non-Null Count  Dtype  \n",
      "---  ------            --------------  -----  \n",
      " 0   MarketID          548 non-null    int64  \n",
      " 1   MarketSize        548 non-null    object \n",
      " 2   LocationID        548 non-null    int64  \n",
      " 3   AgeOfStore        548 non-null    int64  \n",
      " 4   Promotion         548 non-null    int64  \n",
      " 5   week              548 non-null    int64  \n",
      " 6   SalesInThousands  548 non-null    float64\n",
      "dtypes: float64(1), int64(5), object(1)\n",
      "memory usage: 30.1+ KB\n"
     ]
    }
   ],
   "source": [
    "df.info() # посмотрим пропущенные значения и типы переменных"
   ]
  },
  {
   "cell_type": "markdown",
   "id": "16d590fd-c99f-491f-9b4e-fbfec8934b84",
   "metadata": {},
   "source": [
    "Пропущенные наблюдения отсутствуют."
   ]
  },
  {
   "cell_type": "code",
   "execution_count": 37,
   "id": "fd22bf0c-7991-487f-baf9-f8fa25e3cc33",
   "metadata": {},
   "outputs": [
    {
     "data": {
      "text/html": [
       "<div>\n",
       "<style scoped>\n",
       "    .dataframe tbody tr th:only-of-type {\n",
       "        vertical-align: middle;\n",
       "    }\n",
       "\n",
       "    .dataframe tbody tr th {\n",
       "        vertical-align: top;\n",
       "    }\n",
       "\n",
       "    .dataframe thead th {\n",
       "        text-align: right;\n",
       "    }\n",
       "</style>\n",
       "<table border=\"1\" class=\"dataframe\">\n",
       "  <thead>\n",
       "    <tr style=\"text-align: right;\">\n",
       "      <th></th>\n",
       "      <th>MarketID</th>\n",
       "      <th>MarketSize</th>\n",
       "      <th>LocationID</th>\n",
       "      <th>AgeOfStore</th>\n",
       "      <th>Promotion</th>\n",
       "      <th>week</th>\n",
       "      <th>SalesInThousands</th>\n",
       "    </tr>\n",
       "  </thead>\n",
       "  <tbody>\n",
       "    <tr>\n",
       "      <th>0</th>\n",
       "      <td>1</td>\n",
       "      <td>Medium</td>\n",
       "      <td>1</td>\n",
       "      <td>4</td>\n",
       "      <td>3</td>\n",
       "      <td>1</td>\n",
       "      <td>33.73</td>\n",
       "    </tr>\n",
       "    <tr>\n",
       "      <th>1</th>\n",
       "      <td>1</td>\n",
       "      <td>Medium</td>\n",
       "      <td>1</td>\n",
       "      <td>4</td>\n",
       "      <td>3</td>\n",
       "      <td>2</td>\n",
       "      <td>35.67</td>\n",
       "    </tr>\n",
       "    <tr>\n",
       "      <th>2</th>\n",
       "      <td>1</td>\n",
       "      <td>Medium</td>\n",
       "      <td>1</td>\n",
       "      <td>4</td>\n",
       "      <td>3</td>\n",
       "      <td>3</td>\n",
       "      <td>29.03</td>\n",
       "    </tr>\n",
       "    <tr>\n",
       "      <th>3</th>\n",
       "      <td>1</td>\n",
       "      <td>Medium</td>\n",
       "      <td>1</td>\n",
       "      <td>4</td>\n",
       "      <td>3</td>\n",
       "      <td>4</td>\n",
       "      <td>39.25</td>\n",
       "    </tr>\n",
       "    <tr>\n",
       "      <th>4</th>\n",
       "      <td>1</td>\n",
       "      <td>Medium</td>\n",
       "      <td>2</td>\n",
       "      <td>5</td>\n",
       "      <td>2</td>\n",
       "      <td>1</td>\n",
       "      <td>27.81</td>\n",
       "    </tr>\n",
       "  </tbody>\n",
       "</table>\n",
       "</div>"
      ],
      "text/plain": [
       "   MarketID MarketSize  LocationID  AgeOfStore  Promotion  week  \\\n",
       "0         1     Medium           1           4          3     1   \n",
       "1         1     Medium           1           4          3     2   \n",
       "2         1     Medium           1           4          3     3   \n",
       "3         1     Medium           1           4          3     4   \n",
       "4         1     Medium           2           5          2     1   \n",
       "\n",
       "   SalesInThousands  \n",
       "0             33.73  \n",
       "1             35.67  \n",
       "2             29.03  \n",
       "3             39.25  \n",
       "4             27.81  "
      ]
     },
     "execution_count": 37,
     "metadata": {},
     "output_type": "execute_result"
    }
   ],
   "source": [
    "df.head() # посмотрим на первые строки датафрейма"
   ]
  },
  {
   "cell_type": "code",
   "execution_count": 38,
   "id": "ff69ca35-77e5-4de3-a0c7-74ee300184ba",
   "metadata": {},
   "outputs": [
    {
     "data": {
      "text/html": [
       "<div>\n",
       "<style scoped>\n",
       "    .dataframe tbody tr th:only-of-type {\n",
       "        vertical-align: middle;\n",
       "    }\n",
       "\n",
       "    .dataframe tbody tr th {\n",
       "        vertical-align: top;\n",
       "    }\n",
       "\n",
       "    .dataframe thead th {\n",
       "        text-align: right;\n",
       "    }\n",
       "</style>\n",
       "<table border=\"1\" class=\"dataframe\">\n",
       "  <thead>\n",
       "    <tr style=\"text-align: right;\">\n",
       "      <th></th>\n",
       "      <th>MarketID</th>\n",
       "      <th>MarketSize</th>\n",
       "      <th>LocationID</th>\n",
       "      <th>AgeOfStore</th>\n",
       "      <th>Promotion</th>\n",
       "      <th>week</th>\n",
       "      <th>SalesInThousands</th>\n",
       "    </tr>\n",
       "  </thead>\n",
       "  <tbody>\n",
       "  </tbody>\n",
       "</table>\n",
       "</div>"
      ],
      "text/plain": [
       "Empty DataFrame\n",
       "Columns: [MarketID, MarketSize, LocationID, AgeOfStore, Promotion, week, SalesInThousands]\n",
       "Index: []"
      ]
     },
     "execution_count": 38,
     "metadata": {},
     "output_type": "execute_result"
    }
   ],
   "source": [
    "df.loc[df.duplicated(), :] # проверка на дубликаты"
   ]
  },
  {
   "cell_type": "markdown",
   "id": "a030dedf-9a3a-47c7-94bf-cb722d24b224",
   "metadata": {},
   "source": [
    "Дубликатов в наборе данных не обнаружено."
   ]
  },
  {
   "cell_type": "markdown",
   "id": "31b659f1-bcd2-47a5-833f-bbac5a857714",
   "metadata": {},
   "source": [
    "##### Определение категориальных и количественных переменных"
   ]
  },
  {
   "cell_type": "code",
   "execution_count": 39,
   "id": "00425d68-9239-41dc-a11d-babe46c68ef4",
   "metadata": {},
   "outputs": [
    {
     "data": {
      "text/plain": [
       "MarketID             10\n",
       "MarketSize            3\n",
       "LocationID          137\n",
       "AgeOfStore           25\n",
       "Promotion             3\n",
       "week                  4\n",
       "SalesInThousands    517\n",
       "dtype: int64"
      ]
     },
     "execution_count": 39,
     "metadata": {},
     "output_type": "execute_result"
    }
   ],
   "source": [
    "df.nunique()"
   ]
  },
  {
   "cell_type": "code",
   "execution_count": 44,
   "id": "d2872203-245f-495c-956e-50d2aca5b9a3",
   "metadata": {},
   "outputs": [
    {
     "data": {
      "text/plain": [
       "['MarketSize', 'MarketID', 'Promotion', 'week']"
      ]
     },
     "execution_count": 44,
     "metadata": {},
     "output_type": "execute_result"
    }
   ],
   "source": [
    "# выведем категориальные переменные \n",
    "cat_cols = [col for col in df.columns if str(df[col].dtypes) in ['object', 'category', 'bool']]\n",
    "num_but_cat = [col for col in df.columns if df[col].nunique() < 15 and str(df[col].dtypes) in ['int64', 'float64']]\n",
    "cat_uncer = [col for col in df.columns if df[col].nunique() > 15 and str(df[col].dtypes) in ['category', 'object']]\n",
    "cat_cols = cat_cols + num_but_cat\n",
    "cat_cols = [col for col in cat_cols if col not in cat_uncer]\n",
    "cat_cols"
   ]
  },
  {
   "cell_type": "code",
   "execution_count": 47,
   "id": "bbc8744d-bdff-4cf2-9337-a8656629a437",
   "metadata": {},
   "outputs": [
    {
     "name": "stdout",
     "output_type": "stream",
     "text": [
      "MarketSize - уникальные значения:\n",
      "['Medium' 'Small' 'Large']\n",
      "--------------------------------\n",
      "MarketID - уникальные значения:\n",
      "[ 1  2  3  4  5  6  7  8  9 10]\n",
      "--------------------------------\n",
      "Promotion - уникальные значения:\n",
      "[3 2 1]\n",
      "--------------------------------\n",
      "week - уникальные значения:\n",
      "[1 2 3 4]\n",
      "--------------------------------\n"
     ]
    }
   ],
   "source": [
    "# выведем униклаьные значения для категориальных переменных\n",
    "for col in cat_cols:\n",
    "    print(f'{col} - уникальные значения:\\n{df[col].unique()}')\n",
    "    print('--------------------------------')"
   ]
  },
  {
   "cell_type": "code",
   "execution_count": 56,
   "id": "3d6359bc-5150-42cb-9994-34d8e2e44d72",
   "metadata": {},
   "outputs": [
    {
     "data": {
      "text/plain": [
       "['LocationID', 'AgeOfStore', 'SalesInThousands']"
      ]
     },
     "execution_count": 56,
     "metadata": {},
     "output_type": "execute_result"
    }
   ],
   "source": [
    "# количественные переменные\n",
    "num_col = [col for col in df.columns if col not in cat_cols and str(df[col].dtypes) in ['float64', 'int64']]\n",
    "num_col"
   ]
  },
  {
   "cell_type": "markdown",
   "id": "bf375391-83b3-4f76-87e5-905b526ff3be",
   "metadata": {},
   "source": [
    "LocationID - уникальный идентификатор местоположения магазина. \n",
    "Несмотря на то, что у данной переменной большое количество уникальных значений относительно категориальных переменных датасета, на мой взгляд, она все равно к ним относится. Уберем ее из списка количественных переменных. "
   ]
  },
  {
   "cell_type": "code",
   "execution_count": 57,
   "id": "db7d630e-4ae5-4947-a080-797129120641",
   "metadata": {},
   "outputs": [
    {
     "data": {
      "text/plain": [
       "['AgeOfStore', 'SalesInThousands']"
      ]
     },
     "execution_count": 57,
     "metadata": {},
     "output_type": "execute_result"
    }
   ],
   "source": [
    "num_col = num_col[1:]\n",
    "num_col"
   ]
  },
  {
   "cell_type": "markdown",
   "id": "ba4be0ed-e59f-4d08-962c-a205e063d53a",
   "metadata": {},
   "source": [
    "##### Продолжаем исследование: таблицы и графики"
   ]
  },
  {
   "cell_type": "code",
   "execution_count": 162,
   "id": "d9b495d5-68f1-4445-8ced-7cacfb42474c",
   "metadata": {},
   "outputs": [
    {
     "data": {
      "text/plain": [
       "Promotion\n",
       "1    172\n",
       "2    188\n",
       "3    188\n",
       "Name: Promotion, dtype: int64"
      ]
     },
     "execution_count": 162,
     "metadata": {},
     "output_type": "execute_result"
    }
   ],
   "source": [
    "df.groupby('Promotion').Promotion.count()"
   ]
  },
  {
   "cell_type": "code",
   "execution_count": 180,
   "id": "51f410c2-1bfd-4f8b-b659-7c5ea5db9568",
   "metadata": {},
   "outputs": [
    {
     "data": {
      "image/png": "[encoded data removed]",
      "text/plain": [
       "<Figure size 1000x600 with 1 Axes>"
      ]
     },
     "metadata": {},
     "output_type": "display_data"
    }
   ],
   "source": [
    "plt.figure(figsize=(10, 6))\n",
    "sns.countplot(data=df, x='Promotion', hue='Promotion', palette=['r', 'g', 'b'], legend=False)\n",
    "plt.title('Распределение протестированных акций')\n",
    "plt.xlabel('Протестированные акции')\n",
    "plt.ylabel('Количество');"
   ]
  },
  {
   "cell_type": "code",
   "execution_count": 156,
   "id": "67c83b75-cef8-47b0-b4d3-a28a28d6b006",
   "metadata": {},
   "outputs": [
    {
     "data": {
      "text/html": [
       "<div>\n",
       "<style scoped>\n",
       "    .dataframe tbody tr th:only-of-type {\n",
       "        vertical-align: middle;\n",
       "    }\n",
       "\n",
       "    .dataframe tbody tr th {\n",
       "        vertical-align: top;\n",
       "    }\n",
       "\n",
       "    .dataframe thead th {\n",
       "        text-align: right;\n",
       "    }\n",
       "</style>\n",
       "<table border=\"1\" class=\"dataframe\">\n",
       "  <thead>\n",
       "    <tr style=\"text-align: right;\">\n",
       "      <th></th>\n",
       "      <th>Promotion</th>\n",
       "      <th>SalesInThousands</th>\n",
       "    </tr>\n",
       "  </thead>\n",
       "  <tbody>\n",
       "    <tr>\n",
       "      <th>0</th>\n",
       "      <td>1</td>\n",
       "      <td>9993.03</td>\n",
       "    </tr>\n",
       "    <tr>\n",
       "      <th>1</th>\n",
       "      <td>2</td>\n",
       "      <td>8897.93</td>\n",
       "    </tr>\n",
       "    <tr>\n",
       "      <th>2</th>\n",
       "      <td>3</td>\n",
       "      <td>10408.52</td>\n",
       "    </tr>\n",
       "  </tbody>\n",
       "</table>\n",
       "</div>"
      ],
      "text/plain": [
       "   Promotion  SalesInThousands\n",
       "0          1           9993.03\n",
       "1          2           8897.93\n",
       "2          3          10408.52"
      ]
     },
     "execution_count": 156,
     "metadata": {},
     "output_type": "execute_result"
    }
   ],
   "source": [
    "df.groupby('Promotion', as_index=False).agg({'SalesInThousands':'sum'})"
   ]
  },
  {
   "cell_type": "code",
   "execution_count": 190,
   "id": "1e4eac23-0edd-4c07-9ef2-b14e256a4c30",
   "metadata": {},
   "outputs": [
    {
     "data": {
      "image/png": "[encoded data removed]",
      "text/plain": [
       "<Figure size 1000x600 with 1 Axes>"
      ]
     },
     "metadata": {},
     "output_type": "display_data"
    }
   ],
   "source": [
    "plt.figure(figsize=(10, 6))\n",
    "sns.histplot(data=df, x='SalesInThousands', hue='Promotion', multiple='stack', kde=True, palette='viridis')\n",
    "plt.title('Распределение объема продаж в зависимости от типа протестированной акции', fontsize=12)\n",
    "plt.xlabel('Объем продаж', fontsize=10)\n",
    "plt.ylabel('Абсолютная частота', fontsize=10)\n",
    "plt.show();"
   ]
  },
  {
   "cell_type": "markdown",
   "id": "0a2e29fa-f8aa-4496-be3b-dfce26a33909",
   "metadata": {},
   "source": [
    "Исходя из графика выше, можно заключить, что третий тип акций принес наибольшие продажи."
   ]
  },
  {
   "cell_type": "code",
   "execution_count": 159,
   "id": "e009d432-11ff-4c92-b82b-f74ad573147b",
   "metadata": {},
   "outputs": [
    {
     "data": {
      "text/html": [
       "<div>\n",
       "<style scoped>\n",
       "    .dataframe tbody tr th:only-of-type {\n",
       "        vertical-align: middle;\n",
       "    }\n",
       "\n",
       "    .dataframe tbody tr th {\n",
       "        vertical-align: top;\n",
       "    }\n",
       "\n",
       "    .dataframe thead th {\n",
       "        text-align: right;\n",
       "    }\n",
       "</style>\n",
       "<table border=\"1\" class=\"dataframe\">\n",
       "  <thead>\n",
       "    <tr style=\"text-align: right;\">\n",
       "      <th></th>\n",
       "      <th>MarketSize</th>\n",
       "      <th>SalesInThousands</th>\n",
       "    </tr>\n",
       "  </thead>\n",
       "  <tbody>\n",
       "    <tr>\n",
       "      <th>0</th>\n",
       "      <td>Large</td>\n",
       "      <td>11779.61</td>\n",
       "    </tr>\n",
       "    <tr>\n",
       "      <th>1</th>\n",
       "      <td>Medium</td>\n",
       "      <td>14075.31</td>\n",
       "    </tr>\n",
       "    <tr>\n",
       "      <th>2</th>\n",
       "      <td>Small</td>\n",
       "      <td>3444.56</td>\n",
       "    </tr>\n",
       "  </tbody>\n",
       "</table>\n",
       "</div>"
      ],
      "text/plain": [
       "  MarketSize  SalesInThousands\n",
       "0      Large          11779.61\n",
       "1     Medium          14075.31\n",
       "2      Small           3444.56"
      ]
     },
     "execution_count": 159,
     "metadata": {},
     "output_type": "execute_result"
    }
   ],
   "source": [
    "df.groupby('MarketSize', as_index=False).agg({'SalesInThousands':'sum'})"
   ]
  },
  {
   "cell_type": "code",
   "execution_count": 200,
   "id": "024aa449-9eb4-455b-8dc1-1a349a0522c8",
   "metadata": {},
   "outputs": [
    {
     "data": {
      "image/png": "[encoded data removed]",
      "text/plain": [
       "<Figure size 1000x600 with 1 Axes>"
      ]
     },
     "metadata": {},
     "output_type": "display_data"
    }
   ],
   "source": [
    "plt.figure(figsize=(10, 6))\n",
    "sns.histplot(data=df, x='SalesInThousands', hue='MarketSize', multiple='stack', kde=True, palette='viridis')\n",
    "plt.title('Распределение объема продаж в зависимости от размера магазина', fontsize=12)\n",
    "plt.xlabel('Объем продаж', fontsize=10)\n",
    "plt.ylabel('Абсолютная частота', fontsize=10)\n",
    "plt.show();"
   ]
  },
  {
   "cell_type": "code",
   "execution_count": 158,
   "id": "a0da4282-32bb-40f4-a8c3-0964dce890b3",
   "metadata": {},
   "outputs": [
    {
     "data": {
      "text/html": [
       "<div>\n",
       "<style scoped>\n",
       "    .dataframe tbody tr th:only-of-type {\n",
       "        vertical-align: middle;\n",
       "    }\n",
       "\n",
       "    .dataframe tbody tr th {\n",
       "        vertical-align: top;\n",
       "    }\n",
       "\n",
       "    .dataframe thead th {\n",
       "        text-align: right;\n",
       "    }\n",
       "</style>\n",
       "<table border=\"1\" class=\"dataframe\">\n",
       "  <thead>\n",
       "    <tr style=\"text-align: right;\">\n",
       "      <th></th>\n",
       "      <th>MarketSize</th>\n",
       "      <th>Promotion</th>\n",
       "      <th>SalesInThousands</th>\n",
       "    </tr>\n",
       "  </thead>\n",
       "  <tbody>\n",
       "    <tr>\n",
       "      <th>0</th>\n",
       "      <td>Large</td>\n",
       "      <td>1</td>\n",
       "      <td>4213.21</td>\n",
       "    </tr>\n",
       "    <tr>\n",
       "      <th>1</th>\n",
       "      <td>Large</td>\n",
       "      <td>2</td>\n",
       "      <td>3860.61</td>\n",
       "    </tr>\n",
       "    <tr>\n",
       "      <th>2</th>\n",
       "      <td>Large</td>\n",
       "      <td>3</td>\n",
       "      <td>3705.79</td>\n",
       "    </tr>\n",
       "    <tr>\n",
       "      <th>3</th>\n",
       "      <td>Medium</td>\n",
       "      <td>1</td>\n",
       "      <td>4576.57</td>\n",
       "    </tr>\n",
       "    <tr>\n",
       "      <th>4</th>\n",
       "      <td>Medium</td>\n",
       "      <td>2</td>\n",
       "      <td>4224.35</td>\n",
       "    </tr>\n",
       "    <tr>\n",
       "      <th>5</th>\n",
       "      <td>Medium</td>\n",
       "      <td>3</td>\n",
       "      <td>5274.39</td>\n",
       "    </tr>\n",
       "    <tr>\n",
       "      <th>6</th>\n",
       "      <td>Small</td>\n",
       "      <td>1</td>\n",
       "      <td>1203.25</td>\n",
       "    </tr>\n",
       "    <tr>\n",
       "      <th>7</th>\n",
       "      <td>Small</td>\n",
       "      <td>2</td>\n",
       "      <td>812.97</td>\n",
       "    </tr>\n",
       "    <tr>\n",
       "      <th>8</th>\n",
       "      <td>Small</td>\n",
       "      <td>3</td>\n",
       "      <td>1428.34</td>\n",
       "    </tr>\n",
       "  </tbody>\n",
       "</table>\n",
       "</div>"
      ],
      "text/plain": [
       "  MarketSize  Promotion  SalesInThousands\n",
       "0      Large          1           4213.21\n",
       "1      Large          2           3860.61\n",
       "2      Large          3           3705.79\n",
       "3     Medium          1           4576.57\n",
       "4     Medium          2           4224.35\n",
       "5     Medium          3           5274.39\n",
       "6      Small          1           1203.25\n",
       "7      Small          2            812.97\n",
       "8      Small          3           1428.34"
      ]
     },
     "execution_count": 158,
     "metadata": {},
     "output_type": "execute_result"
    }
   ],
   "source": [
    "df.groupby(['MarketSize', 'Promotion'], as_index=False).agg({'SalesInThousands':'sum'})"
   ]
  },
  {
   "cell_type": "markdown",
   "id": "9f6b38a2-69c6-4782-b957-7833c9bfa661",
   "metadata": {},
   "source": [
    "Магазины среднего размера принесли самые высокие показатели продаж."
   ]
  },
  {
   "cell_type": "code",
   "execution_count": 205,
   "id": "e0725c40-04d5-4dc5-8dcd-5a17276af998",
   "metadata": {},
   "outputs": [
    {
     "data": {
      "text/html": [
       "<div>\n",
       "<style scoped>\n",
       "    .dataframe tbody tr th:only-of-type {\n",
       "        vertical-align: middle;\n",
       "    }\n",
       "\n",
       "    .dataframe tbody tr th {\n",
       "        vertical-align: top;\n",
       "    }\n",
       "\n",
       "    .dataframe thead th {\n",
       "        text-align: right;\n",
       "    }\n",
       "</style>\n",
       "<table border=\"1\" class=\"dataframe\">\n",
       "  <thead>\n",
       "    <tr style=\"text-align: right;\">\n",
       "      <th></th>\n",
       "      <th>week</th>\n",
       "      <th>Promotion</th>\n",
       "      <th>SalesInThousands</th>\n",
       "    </tr>\n",
       "  </thead>\n",
       "  <tbody>\n",
       "    <tr>\n",
       "      <th>0</th>\n",
       "      <td>1</td>\n",
       "      <td>1</td>\n",
       "      <td>2504.51</td>\n",
       "    </tr>\n",
       "    <tr>\n",
       "      <th>1</th>\n",
       "      <td>1</td>\n",
       "      <td>2</td>\n",
       "      <td>2243.32</td>\n",
       "    </tr>\n",
       "    <tr>\n",
       "      <th>2</th>\n",
       "      <td>1</td>\n",
       "      <td>3</td>\n",
       "      <td>2621.48</td>\n",
       "    </tr>\n",
       "    <tr>\n",
       "      <th>3</th>\n",
       "      <td>2</td>\n",
       "      <td>1</td>\n",
       "      <td>2447.97</td>\n",
       "    </tr>\n",
       "    <tr>\n",
       "      <th>4</th>\n",
       "      <td>2</td>\n",
       "      <td>2</td>\n",
       "      <td>2236.38</td>\n",
       "    </tr>\n",
       "    <tr>\n",
       "      <th>5</th>\n",
       "      <td>2</td>\n",
       "      <td>3</td>\n",
       "      <td>2629.61</td>\n",
       "    </tr>\n",
       "    <tr>\n",
       "      <th>6</th>\n",
       "      <td>3</td>\n",
       "      <td>1</td>\n",
       "      <td>2527.32</td>\n",
       "    </tr>\n",
       "    <tr>\n",
       "      <th>7</th>\n",
       "      <td>3</td>\n",
       "      <td>2</td>\n",
       "      <td>2242.94</td>\n",
       "    </tr>\n",
       "    <tr>\n",
       "      <th>8</th>\n",
       "      <td>3</td>\n",
       "      <td>3</td>\n",
       "      <td>2555.76</td>\n",
       "    </tr>\n",
       "    <tr>\n",
       "      <th>9</th>\n",
       "      <td>4</td>\n",
       "      <td>1</td>\n",
       "      <td>2513.23</td>\n",
       "    </tr>\n",
       "    <tr>\n",
       "      <th>10</th>\n",
       "      <td>4</td>\n",
       "      <td>2</td>\n",
       "      <td>2175.29</td>\n",
       "    </tr>\n",
       "    <tr>\n",
       "      <th>11</th>\n",
       "      <td>4</td>\n",
       "      <td>3</td>\n",
       "      <td>2601.67</td>\n",
       "    </tr>\n",
       "  </tbody>\n",
       "</table>\n",
       "</div>"
      ],
      "text/plain": [
       "    week  Promotion  SalesInThousands\n",
       "0      1          1           2504.51\n",
       "1      1          2           2243.32\n",
       "2      1          3           2621.48\n",
       "3      2          1           2447.97\n",
       "4      2          2           2236.38\n",
       "5      2          3           2629.61\n",
       "6      3          1           2527.32\n",
       "7      3          2           2242.94\n",
       "8      3          3           2555.76\n",
       "9      4          1           2513.23\n",
       "10     4          2           2175.29\n",
       "11     4          3           2601.67"
      ]
     },
     "execution_count": 205,
     "metadata": {},
     "output_type": "execute_result"
    }
   ],
   "source": [
    "df.groupby(['week', 'Promotion'], as_index=False).agg({'SalesInThousands':'sum'})"
   ]
  },
  {
   "cell_type": "markdown",
   "id": "f5f403ef-62cd-4efa-a67a-82dd5f1479fe",
   "metadata": {},
   "source": [
    "Судя по представленным значениям, объем продаж по неделям не изменяется резко, остается в схожих диапазонах (от ~2175 до ~2629). "
   ]
  },
  {
   "cell_type": "code",
   "execution_count": 198,
   "id": "c06496c0-6488-447c-8fae-aa2d6875a01d",
   "metadata": {},
   "outputs": [
    {
     "data": {
      "application/vnd.plotly.v1+json": {
       "config": {
        "plotlyServerURL": "https://plot.ly"
       },
       "data": [
        {
         "alignmentgroup": "True",
         "hovertemplate": "Promotion=%{x}<br>SalesInThousands=%{y}<extra></extra>",
         "legendgroup": "3",
         "marker": {
          "color": "#636efa"
         },
         "name": "3",
         "notched": false,
         "offsetgroup": "3",
         "orientation": "v",
         "showlegend": true,
         "type": "box",
         "x": [
          3,
          3,
          3,
          3,
          3,
          3,
          3,
          3,
          3,
          3,
          3,
          3,
          3,
          3,
          3,
          3,
          3,
          3,
          3,
          3,
          3,
          3,
          3,
          3,
          3,
          3,
          3,
          3,
          3,
          3,
          3,
          3,
          3,
          3,
          3,
          3,
          3,
          3,
          3,
          3,
          3,
          3,
          3,
          3,
          3,
          3,
          3,
          3,
          3,
          3,
          3,
          3,
          3,
          3,
          3,
          3,
          3,
          3,
          3,
          3,
          3,
          3,
          3,
          3,
          3,
          3,
          3,
          3,
          3,
          3,
          3,
          3,
          3,
          3,
          3,
          3,
          3,
          3,
          3,
          3,
          3,
          3,
          3,
          3,
          3,
          3,
          3,
          3,
          3,
          3,
          3,
          3,
          3,
          3,
          3,
          3,
          3,
          3,
          3,
          3,
          3,
          3,
          3,
          3,
          3,
          3,
          3,
          3,
          3,
          3,
          3,
          3,
          3,
          3,
          3,
          3,
          3,
          3,
          3,
          3,
          3,
          3,
          3,
          3,
          3,
          3,
          3,
          3,
          3,
          3,
          3,
          3,
          3,
          3,
          3,
          3,
          3,
          3,
          3,
          3,
          3,
          3,
          3,
          3,
          3,
          3,
          3,
          3,
          3,
          3,
          3,
          3,
          3,
          3,
          3,
          3,
          3,
          3,
          3,
          3,
          3,
          3,
          3,
          3,
          3,
          3,
          3,
          3,
          3,
          3,
          3,
          3,
          3,
          3,
          3,
          3,
          3,
          3,
          3,
          3,
          3,
          3,
          3,
          3,
          3,
          3,
          3,
          3
         ],
         "x0": " ",
         "xaxis": "x",
         "y": [
          33.73,
          35.67,
          29.03,
          39.25,
          32.9,
          22.18,
          42.98,
          26.68,
          33.42,
          37.93,
          33.85,
          40.25,
          61.59,
          63.64,
          54.68,
          61.24,
          62.93,
          58.77,
          70.6,
          65.06,
          59.76,
          66.11,
          62.16,
          64.04,
          59.65,
          57.04,
          59.73,
          56.72,
          58.55,
          62.19,
          53.14,
          62.27,
          86.14,
          82.56,
          79.36,
          77.17,
          89.7,
          78.43,
          84.05,
          81.18,
          83.02,
          90.3,
          85.18,
          89.77,
          82.64,
          82.89,
          82.13,
          88.91,
          87.7,
          81.16,
          81.58,
          94.21,
          96.48,
          84.13,
          91.98,
          81.72,
          84.34,
          87.9,
          76.12,
          82.72,
          94.89,
          74.75,
          93.63,
          80.82,
          91.61,
          79.02,
          86.11,
          82.88,
          51.47,
          53.47,
          46.83,
          56.7,
          52.23,
          51.68,
          46.22,
          46.03,
          45.56,
          55.19,
          37.84,
          50.07,
          50.11,
          55.59,
          54.37,
          51.91,
          57.37,
          55.53,
          51.16,
          57.06,
          50.59,
          48.64,
          50.55,
          49.08,
          24.75,
          41.47,
          35.1,
          34.33,
          37.17,
          30.52,
          32.51,
          29.12,
          47.48,
          39.41,
          43.29,
          42.59,
          34.46,
          40.13,
          32.18,
          43.73,
          49.01,
          46.29,
          37.14,
          42.82,
          47.22,
          35.24,
          47.22,
          43.15,
          40.29,
          48.35,
          43.26,
          44.2,
          46.14,
          41.12,
          45.03,
          38.85,
          41.96,
          42.27,
          38.51,
          43.51,
          40.43,
          51.15,
          42.5,
          52.76,
          47.63,
          52.21,
          40.17,
          48.36,
          53.56,
          49.72,
          48.77,
          46.84,
          49.67,
          49.98,
          49.5,
          47.35,
          50.26,
          52.05,
          51.14,
          46.3,
          54.79,
          52.39,
          42.15,
          49.63,
          48.06,
          51.09,
          44.19,
          49.52,
          44.66,
          53.78,
          43.91,
          52.41,
          50.94,
          49.38,
          63.98,
          45.84,
          51.01,
          56.16,
          45.77,
          46.47,
          55.9,
          59.8,
          60.97,
          64.14,
          39.98,
          54.58,
          52.64,
          45.43,
          51.89,
          51.17,
          54.33,
          50.05,
          54.34,
          60.24,
          56.39,
          58.33,
          53.5,
          56.34,
          51.83,
          50.2
         ],
         "y0": " ",
         "yaxis": "y"
        },
        {
         "alignmentgroup": "True",
         "hovertemplate": "Promotion=%{x}<br>SalesInThousands=%{y}<extra></extra>",
         "legendgroup": "2",
         "marker": {
          "color": "#EF553B"
         },
         "name": "2",
         "notched": false,
         "offsetgroup": "2",
         "orientation": "v",
         "showlegend": true,
         "type": "box",
         "x": [
          2,
          2,
          2,
          2,
          2,
          2,
          2,
          2,
          2,
          2,
          2,
          2,
          2,
          2,
          2,
          2,
          2,
          2,
          2,
          2,
          2,
          2,
          2,
          2,
          2,
          2,
          2,
          2,
          2,
          2,
          2,
          2,
          2,
          2,
          2,
          2,
          2,
          2,
          2,
          2,
          2,
          2,
          2,
          2,
          2,
          2,
          2,
          2,
          2,
          2,
          2,
          2,
          2,
          2,
          2,
          2,
          2,
          2,
          2,
          2,
          2,
          2,
          2,
          2,
          2,
          2,
          2,
          2,
          2,
          2,
          2,
          2,
          2,
          2,
          2,
          2,
          2,
          2,
          2,
          2,
          2,
          2,
          2,
          2,
          2,
          2,
          2,
          2,
          2,
          2,
          2,
          2,
          2,
          2,
          2,
          2,
          2,
          2,
          2,
          2,
          2,
          2,
          2,
          2,
          2,
          2,
          2,
          2,
          2,
          2,
          2,
          2,
          2,
          2,
          2,
          2,
          2,
          2,
          2,
          2,
          2,
          2,
          2,
          2,
          2,
          2,
          2,
          2,
          2,
          2,
          2,
          2,
          2,
          2,
          2,
          2,
          2,
          2,
          2,
          2,
          2,
          2,
          2,
          2,
          2,
          2,
          2,
          2,
          2,
          2,
          2,
          2,
          2,
          2,
          2,
          2,
          2,
          2,
          2,
          2,
          2,
          2,
          2,
          2,
          2,
          2,
          2,
          2,
          2,
          2,
          2,
          2,
          2,
          2,
          2,
          2,
          2,
          2,
          2,
          2,
          2,
          2,
          2,
          2,
          2,
          2,
          2,
          2
         ],
         "x0": " ",
         "xaxis": "x",
         "y": [
          27.81,
          34.67,
          27.98,
          27.72,
          39.28,
          39.8,
          24.77,
          30.98,
          30.37,
          24.82,
          37.47,
          23.35,
          30.08,
          28.62,
          25.4,
          27.26,
          34.27,
          29.3,
          23.93,
          35.16,
          87.43,
          81.79,
          88.12,
          75.29,
          88.64,
          81.37,
          82.14,
          79.64,
          73.22,
          75.88,
          78.01,
          80.17,
          82.65,
          77.39,
          80.83,
          80.75,
          66.22,
          82.86,
          83.4,
          75.61,
          79.53,
          74.03,
          78.53,
          76.71,
          49.61,
          43.69,
          54.49,
          61.25,
          47.89,
          52.37,
          49.11,
          52.88,
          46.98,
          53.41,
          36.17,
          55.98,
          51.87,
          58.01,
          47.93,
          51.33,
          40.4,
          50.28,
          52.72,
          38.3,
          51.79,
          42.56,
          44.64,
          45.11,
          42.15,
          42.59,
          49.56,
          39.25,
          48.18,
          48.25,
          46.42,
          43.77,
          45.3,
          48.84,
          45.08,
          44.67,
          47.33,
          45.42,
          44.31,
          40.26,
          43.27,
          48.33,
          44.14,
          51.5,
          46.26,
          47.71,
          54.09,
          46.89,
          31.94,
          29.64,
          33.64,
          36.05,
          36.7,
          41.53,
          27.71,
          37.2,
          32.21,
          38.41,
          37.9,
          44.84,
          37.45,
          35.46,
          31.85,
          19.26,
          38.65,
          17.34,
          33.14,
          23.44,
          32.77,
          30.26,
          27.55,
          27.37,
          40.71,
          38.26,
          41.44,
          25.7,
          49.39,
          40.25,
          42.46,
          31.62,
          38.56,
          37.29,
          35.6,
          33.35,
          48.5,
          36.8,
          48.32,
          41.54,
          32.61,
          57.27,
          37.32,
          41.22,
          39.73,
          50.3,
          40.16,
          41.37,
          48.76,
          44.14,
          58.1,
          44.16,
          46.02,
          51.09,
          51.68,
          55.91,
          53.76,
          39.36,
          47.2,
          53.66,
          51.09,
          54.82,
          44.16,
          53.95,
          51.26,
          51.73,
          51.35,
          41.85,
          45.21,
          55.02,
          45.35,
          47.06,
          43.59,
          46.03,
          47.22,
          51.41,
          55.39,
          49.16,
          58.26,
          48.12,
          49.98,
          44.84,
          55.12,
          47.36,
          44.7,
          43.44,
          52.36,
          45.9,
          43.61,
          46.2,
          51.52,
          49.71,
          50.2,
          45.75,
          44.29,
          49.41
         ],
         "y0": " ",
         "yaxis": "y"
        },
        {
         "alignmentgroup": "True",
         "hovertemplate": "Promotion=%{x}<br>SalesInThousands=%{y}<extra></extra>",
         "legendgroup": "1",
         "marker": {
          "color": "#00cc96"
         },
         "name": "1",
         "notched": false,
         "offsetgroup": "1",
         "orientation": "v",
         "showlegend": true,
         "type": "box",
         "x": [
          1,
          1,
          1,
          1,
          1,
          1,
          1,
          1,
          1,
          1,
          1,
          1,
          1,
          1,
          1,
          1,
          1,
          1,
          1,
          1,
          1,
          1,
          1,
          1,
          1,
          1,
          1,
          1,
          1,
          1,
          1,
          1,
          1,
          1,
          1,
          1,
          1,
          1,
          1,
          1,
          1,
          1,
          1,
          1,
          1,
          1,
          1,
          1,
          1,
          1,
          1,
          1,
          1,
          1,
          1,
          1,
          1,
          1,
          1,
          1,
          1,
          1,
          1,
          1,
          1,
          1,
          1,
          1,
          1,
          1,
          1,
          1,
          1,
          1,
          1,
          1,
          1,
          1,
          1,
          1,
          1,
          1,
          1,
          1,
          1,
          1,
          1,
          1,
          1,
          1,
          1,
          1,
          1,
          1,
          1,
          1,
          1,
          1,
          1,
          1,
          1,
          1,
          1,
          1,
          1,
          1,
          1,
          1,
          1,
          1,
          1,
          1,
          1,
          1,
          1,
          1,
          1,
          1,
          1,
          1,
          1,
          1,
          1,
          1,
          1,
          1,
          1,
          1,
          1,
          1,
          1,
          1,
          1,
          1,
          1,
          1,
          1,
          1,
          1,
          1,
          1,
          1,
          1,
          1,
          1,
          1,
          1,
          1,
          1,
          1,
          1,
          1,
          1,
          1,
          1,
          1,
          1,
          1,
          1,
          1,
          1,
          1,
          1,
          1,
          1,
          1,
          1,
          1,
          1,
          1,
          1,
          1
         ],
         "x0": " ",
         "xaxis": "x",
         "y": [
          44.54,
          37.94,
          45.49,
          34.75,
          42.92,
          42.16,
          51.72,
          36.17,
          37.41,
          38.64,
          40.9,
          41.11,
          35.85,
          36.24,
          41.73,
          37.32,
          50.48,
          36.88,
          35.68,
          46.45,
          67.48,
          65.57,
          68.42,
          60.93,
          88.73,
          85.21,
          81.55,
          94.17,
          93.71,
          96.01,
          93.03,
          97.61,
          85.11,
          88.07,
          94.43,
          89.44,
          91.6,
          80.61,
          93.86,
          83.43,
          99.65,
          88.64,
          86.96,
          89.25,
          87.08,
          89.32,
          99.12,
          85.85,
          93.32,
          85.71,
          77.36,
          91.29,
          55.94,
          61.36,
          56.19,
          62.06,
          54.01,
          63.48,
          61.96,
          55.3,
          53.79,
          66.96,
          57.1,
          65.12,
          62.16,
          54.06,
          51.72,
          59.64,
          49.95,
          55.11,
          55.28,
          54.7,
          59.34,
          62.63,
          49.08,
          58.04,
          42.16,
          36.8,
          46.98,
          47.35,
          40.46,
          41.25,
          32.05,
          47.5,
          35.3,
          35.86,
          49.3,
          30.81,
          44.98,
          41.71,
          41.1,
          40.97,
          41.1,
          41.56,
          36.39,
          39.67,
          53.38,
          55.31,
          56.1,
          43.24,
          48.18,
          43.11,
          43.78,
          56.9,
          53.53,
          47.92,
          56.18,
          46.66,
          42.76,
          50.52,
          56.86,
          47.51,
          51.82,
          45.02,
          49.44,
          51.32,
          52.85,
          40.84,
          64.45,
          44.43,
          56.64,
          46.06,
          55.46,
          51.41,
          56.99,
          45.57,
          45.92,
          50.52,
          54.95,
          55.78,
          46.49,
          56.84,
          65.11,
          54.38,
          57.14,
          49.91,
          50.54,
          58.43,
          59.77,
          60.44,
          49.3,
          61.8,
          58,
          55.2,
          61.53,
          59.17,
          63.73,
          61.77,
          58.19,
          62.72,
          66.66,
          64.66,
          66.34,
          60.59,
          61.95,
          67.84,
          62.33,
          53.68,
          62.37,
          63.58,
          53.51,
          49.76,
          68.31,
          66.1,
          49.62,
          62.54,
          50.11,
          61.63,
          59.87,
          62.99,
          57.2,
          64.34
         ],
         "y0": " ",
         "yaxis": "y"
        }
       ],
       "layout": {
        "boxmode": "overlay",
        "height": 600,
        "legend": {
         "title": {
          "text": "Тип акции"
         },
         "tracegroupgap": 0
        },
        "margin": {
         "t": 60
        },
        "template": {
         "data": {
          "bar": [
           {
            "error_x": {
             "color": "#2a3f5f"
            },
            "error_y": {
             "color": "#2a3f5f"
            },
            "marker": {
             "line": {
              "color": "#E5ECF6",
              "width": 0.5
             },
             "pattern": {
              "fillmode": "overlay",
              "size": 10,
              "solidity": 0.2
             }
            },
            "type": "bar"
           }
          ],
          "barpolar": [
           {
            "marker": {
             "line": {
              "color": "#E5ECF6",
              "width": 0.5
             },
             "pattern": {
              "fillmode": "overlay",
              "size": 10,
              "solidity": 0.2
             }
            },
            "type": "barpolar"
           }
          ],
          "carpet": [
           {
            "aaxis": {
             "endlinecolor": "#2a3f5f",
             "gridcolor": "white",
             "linecolor": "white",
             "minorgridcolor": "white",
             "startlinecolor": "#2a3f5f"
            },
            "baxis": {
             "endlinecolor": "#2a3f5f",
             "gridcolor": "white",
             "linecolor": "white",
             "minorgridcolor": "white",
             "startlinecolor": "#2a3f5f"
            },
            "type": "carpet"
           }
          ],
          "choropleth": [
           {
            "colorbar": {
             "outlinewidth": 0,
             "ticks": ""
            },
            "type": "choropleth"
           }
          ],
          "contour": [
           {
            "colorbar": {
             "outlinewidth": 0,
             "ticks": ""
            },
            "colorscale": [
             [
              0,
              "#0d0887"
             ],
             [
              0.1111111111111111,
              "#46039f"
             ],
             [
              0.2222222222222222,
              "#7201a8"
             ],
             [
              0.3333333333333333,
              "#9c179e"
             ],
             [
              0.4444444444444444,
              "#bd3786"
             ],
             [
              0.5555555555555556,
              "#d8576b"
             ],
             [
              0.6666666666666666,
              "#ed7953"
             ],
             [
              0.7777777777777778,
              "#fb9f3a"
             ],
             [
              0.8888888888888888,
              "#fdca26"
             ],
             [
              1,
              "#f0f921"
             ]
            ],
            "type": "contour"
           }
          ],
          "contourcarpet": [
           {
            "colorbar": {
             "outlinewidth": 0,
             "ticks": ""
            },
            "type": "contourcarpet"
           }
          ],
          "heatmap": [
           {
            "colorbar": {
             "outlinewidth": 0,
             "ticks": ""
            },
            "colorscale": [
             [
              0,
              "#0d0887"
             ],
             [
              0.1111111111111111,
              "#46039f"
             ],
             [
              0.2222222222222222,
              "#7201a8"
             ],
             [
              0.3333333333333333,
              "#9c179e"
             ],
             [
              0.4444444444444444,
              "#bd3786"
             ],
             [
              0.5555555555555556,
              "#d8576b"
             ],
             [
              0.6666666666666666,
              "#ed7953"
             ],
             [
              0.7777777777777778,
              "#fb9f3a"
             ],
             [
              0.8888888888888888,
              "#fdca26"
             ],
             [
              1,
              "#f0f921"
             ]
            ],
            "type": "heatmap"
           }
          ],
          "heatmapgl": [
           {
            "colorbar": {
             "outlinewidth": 0,
             "ticks": ""
            },
            "colorscale": [
             [
              0,
              "#0d0887"
             ],
             [
              0.1111111111111111,
              "#46039f"
             ],
             [
              0.2222222222222222,
              "#7201a8"
             ],
             [
              0.3333333333333333,
              "#9c179e"
             ],
             [
              0.4444444444444444,
              "#bd3786"
             ],
             [
              0.5555555555555556,
              "#d8576b"
             ],
             [
              0.6666666666666666,
              "#ed7953"
             ],
             [
              0.7777777777777778,
              "#fb9f3a"
             ],
             [
              0.8888888888888888,
              "#fdca26"
             ],
             [
              1,
              "#f0f921"
             ]
            ],
            "type": "heatmapgl"
           }
          ],
          "histogram": [
           {
            "marker": {
             "pattern": {
              "fillmode": "overlay",
              "size": 10,
              "solidity": 0.2
             }
            },
            "type": "histogram"
           }
          ],
          "histogram2d": [
           {
            "colorbar": {
             "outlinewidth": 0,
             "ticks": ""
            },
            "colorscale": [
             [
              0,
              "#0d0887"
             ],
             [
              0.1111111111111111,
              "#46039f"
             ],
             [
              0.2222222222222222,
              "#7201a8"
             ],
             [
              0.3333333333333333,
              "#9c179e"
             ],
             [
              0.4444444444444444,
              "#bd3786"
             ],
             [
              0.5555555555555556,
              "#d8576b"
             ],
             [
              0.6666666666666666,
              "#ed7953"
             ],
             [
              0.7777777777777778,
              "#fb9f3a"
             ],
             [
              0.8888888888888888,
              "#fdca26"
             ],
             [
              1,
              "#f0f921"
             ]
            ],
            "type": "histogram2d"
           }
          ],
          "histogram2dcontour": [
           {
            "colorbar": {
             "outlinewidth": 0,
             "ticks": ""
            },
            "colorscale": [
             [
              0,
              "#0d0887"
             ],
             [
              0.1111111111111111,
              "#46039f"
             ],
             [
              0.2222222222222222,
              "#7201a8"
             ],
             [
              0.3333333333333333,
              "#9c179e"
             ],
             [
              0.4444444444444444,
              "#bd3786"
             ],
             [
              0.5555555555555556,
              "#d8576b"
             ],
             [
              0.6666666666666666,
              "#ed7953"
             ],
             [
              0.7777777777777778,
              "#fb9f3a"
             ],
             [
              0.8888888888888888,
              "#fdca26"
             ],
             [
              1,
              "#f0f921"
             ]
            ],
            "type": "histogram2dcontour"
           }
          ],
          "mesh3d": [
           {
            "colorbar": {
             "outlinewidth": 0,
             "ticks": ""
            },
            "type": "mesh3d"
           }
          ],
          "parcoords": [
           {
            "line": {
             "colorbar": {
              "outlinewidth": 0,
              "ticks": ""
             }
            },
            "type": "parcoords"
           }
          ],
          "pie": [
           {
            "automargin": true,
            "type": "pie"
           }
          ],
          "scatter": [
           {
            "fillpattern": {
             "fillmode": "overlay",
             "size": 10,
             "solidity": 0.2
            },
            "type": "scatter"
           }
          ],
          "scatter3d": [
           {
            "line": {
             "colorbar": {
              "outlinewidth": 0,
              "ticks": ""
             }
            },
            "marker": {
             "colorbar": {
              "outlinewidth": 0,
              "ticks": ""
             }
            },
            "type": "scatter3d"
           }
          ],
          "scattercarpet": [
           {
            "marker": {
             "colorbar": {
              "outlinewidth": 0,
              "ticks": ""
             }
            },
            "type": "scattercarpet"
           }
          ],
          "scattergeo": [
           {
            "marker": {
             "colorbar": {
              "outlinewidth": 0,
              "ticks": ""
             }
            },
            "type": "scattergeo"
           }
          ],
          "scattergl": [
           {
            "marker": {
             "colorbar": {
              "outlinewidth": 0,
              "ticks": ""
             }
            },
            "type": "scattergl"
           }
          ],
          "scattermapbox": [
           {
            "marker": {
             "colorbar": {
              "outlinewidth": 0,
              "ticks": ""
             }
            },
            "type": "scattermapbox"
           }
          ],
          "scatterpolar": [
           {
            "marker": {
             "colorbar": {
              "outlinewidth": 0,
              "ticks": ""
             }
            },
            "type": "scatterpolar"
           }
          ],
          "scatterpolargl": [
           {
            "marker": {
             "colorbar": {
              "outlinewidth": 0,
              "ticks": ""
             }
            },
            "type": "scatterpolargl"
           }
          ],
          "scatterternary": [
           {
            "marker": {
             "colorbar": {
              "outlinewidth": 0,
              "ticks": ""
             }
            },
            "type": "scatterternary"
           }
          ],
          "surface": [
           {
            "colorbar": {
             "outlinewidth": 0,
             "ticks": ""
            },
            "colorscale": [
             [
              0,
              "#0d0887"
             ],
             [
              0.1111111111111111,
              "#46039f"
             ],
             [
              0.2222222222222222,
              "#7201a8"
             ],
             [
              0.3333333333333333,
              "#9c179e"
             ],
             [
              0.4444444444444444,
              "#bd3786"
             ],
             [
              0.5555555555555556,
              "#d8576b"
             ],
             [
              0.6666666666666666,
              "#ed7953"
             ],
             [
              0.7777777777777778,
              "#fb9f3a"
             ],
             [
              0.8888888888888888,
              "#fdca26"
             ],
             [
              1,
              "#f0f921"
             ]
            ],
            "type": "surface"
           }
          ],
          "table": [
           {
            "cells": {
             "fill": {
              "color": "#EBF0F8"
             },
             "line": {
              "color": "white"
             }
            },
            "header": {
             "fill": {
              "color": "#C8D4E3"
             },
             "line": {
              "color": "white"
             }
            },
            "type": "table"
           }
          ]
         },
         "layout": {
          "annotationdefaults": {
           "arrowcolor": "#2a3f5f",
           "arrowhead": 0,
           "arrowwidth": 1
          },
          "autotypenumbers": "strict",
          "coloraxis": {
           "colorbar": {
            "outlinewidth": 0,
            "ticks": ""
           }
          },
          "colorscale": {
           "diverging": [
            [
             0,
             "#8e0152"
            ],
            [
             0.1,
             "#c51b7d"
            ],
            [
             0.2,
             "#de77ae"
            ],
            [
             0.3,
             "#f1b6da"
            ],
            [
             0.4,
             "#fde0ef"
            ],
            [
             0.5,
             "#f7f7f7"
            ],
            [
             0.6,
             "#e6f5d0"
            ],
            [
             0.7,
             "#b8e186"
            ],
            [
             0.8,
             "#7fbc41"
            ],
            [
             0.9,
             "#4d9221"
            ],
            [
             1,
             "#276419"
            ]
           ],
           "sequential": [
            [
             0,
             "#0d0887"
            ],
            [
             0.1111111111111111,
             "#46039f"
            ],
            [
             0.2222222222222222,
             "#7201a8"
            ],
            [
             0.3333333333333333,
             "#9c179e"
            ],
            [
             0.4444444444444444,
             "#bd3786"
            ],
            [
             0.5555555555555556,
             "#d8576b"
            ],
            [
             0.6666666666666666,
             "#ed7953"
            ],
            [
             0.7777777777777778,
             "#fb9f3a"
            ],
            [
             0.8888888888888888,
             "#fdca26"
            ],
            [
             1,
             "#f0f921"
            ]
           ],
           "sequentialminus": [
            [
             0,
             "#0d0887"
            ],
            [
             0.1111111111111111,
             "#46039f"
            ],
            [
             0.2222222222222222,
             "#7201a8"
            ],
            [
             0.3333333333333333,
             "#9c179e"
            ],
            [
             0.4444444444444444,
             "#bd3786"
            ],
            [
             0.5555555555555556,
             "#d8576b"
            ],
            [
             0.6666666666666666,
             "#ed7953"
            ],
            [
             0.7777777777777778,
             "#fb9f3a"
            ],
            [
             0.8888888888888888,
             "#fdca26"
            ],
            [
             1,
             "#f0f921"
            ]
           ]
          },
          "colorway": [
           "#636efa",
           "#EF553B",
           "#00cc96",
           "#ab63fa",
           "#FFA15A",
           "#19d3f3",
           "#FF6692",
           "#B6E880",
           "#FF97FF",
           "#FECB52"
          ],
          "font": {
           "color": "#2a3f5f"
          },
          "geo": {
           "bgcolor": "white",
           "lakecolor": "white",
           "landcolor": "#E5ECF6",
           "showlakes": true,
           "showland": true,
           "subunitcolor": "white"
          },
          "hoverlabel": {
           "align": "left"
          },
          "hovermode": "closest",
          "mapbox": {
           "style": "light"
          },
          "paper_bgcolor": "white",
          "plot_bgcolor": "#E5ECF6",
          "polar": {
           "angularaxis": {
            "gridcolor": "white",
            "linecolor": "white",
            "ticks": ""
           },
           "bgcolor": "#E5ECF6",
           "radialaxis": {
            "gridcolor": "white",
            "linecolor": "white",
            "ticks": ""
           }
          },
          "scene": {
           "xaxis": {
            "backgroundcolor": "#E5ECF6",
            "gridcolor": "white",
            "gridwidth": 2,
            "linecolor": "white",
            "showbackground": true,
            "ticks": "",
            "zerolinecolor": "white"
           },
           "yaxis": {
            "backgroundcolor": "#E5ECF6",
            "gridcolor": "white",
            "gridwidth": 2,
            "linecolor": "white",
            "showbackground": true,
            "ticks": "",
            "zerolinecolor": "white"
           },
           "zaxis": {
            "backgroundcolor": "#E5ECF6",
            "gridcolor": "white",
            "gridwidth": 2,
            "linecolor": "white",
            "showbackground": true,
            "ticks": "",
            "zerolinecolor": "white"
           }
          },
          "shapedefaults": {
           "line": {
            "color": "#2a3f5f"
           }
          },
          "ternary": {
           "aaxis": {
            "gridcolor": "white",
            "linecolor": "white",
            "ticks": ""
           },
           "baxis": {
            "gridcolor": "white",
            "linecolor": "white",
            "ticks": ""
           },
           "bgcolor": "#E5ECF6",
           "caxis": {
            "gridcolor": "white",
            "linecolor": "white",
            "ticks": ""
           }
          },
          "title": {
           "x": 0.05
          },
          "xaxis": {
           "automargin": true,
           "gridcolor": "white",
           "linecolor": "white",
           "ticks": "",
           "title": {
            "standoff": 15
           },
           "zerolinecolor": "white",
           "zerolinewidth": 2
          },
          "yaxis": {
           "automargin": true,
           "gridcolor": "white",
           "linecolor": "white",
           "ticks": "",
           "title": {
            "standoff": 15
           },
           "zerolinecolor": "white",
           "zerolinewidth": 2
          }
         }
        },
        "title": {
         "text": "Сравнение объема продаж протестированных акций"
        },
        "width": 1000,
        "xaxis": {
         "anchor": "y",
         "autorange": true,
         "categoryarray": [
          3,
          2,
          1
         ],
         "categoryorder": "array",
         "domain": [
          0,
          1
         ],
         "range": [
          0.5,
          3.5
         ],
         "title": {
          "text": "Протестированные акции"
         },
         "type": "linear"
        },
        "yaxis": {
         "anchor": "x",
         "autorange": true,
         "domain": [
          0,
          1
         ],
         "range": [
          12.767222222222221,
          104.22277777777778
         ],
         "title": {
          "text": "Объем продаж"
         },
         "type": "linear"
        }
       }
      },
      "image/png": "[encoded data removed]",
      "text/html": [
       "<div>                            <div id=\"213f0388-d038-4812-b80b-224e5fab9666\" class=\"plotly-graph-div\" style=\"height:600px; width:1000px;\"></div>            <script type=\"text/javascript\">                require([\"plotly\"], function(Plotly) {                    window.PLOTLYENV=window.PLOTLYENV || {};                                    if (document.getElementById(\"213f0388-d038-4812-b80b-224e5fab9666\")) {                    Plotly.newPlot(                        \"213f0388-d038-4812-b80b-224e5fab9666\",                        [{\"alignmentgroup\":\"True\",\"hovertemplate\":\"Promotion=%{x}\\u003cbr\\u003eSalesInThousands=%{y}\\u003cextra\\u003e\\u003c\\u002fextra\\u003e\",\"legendgroup\":\"3\",\"marker\":{\"color\":\"#636efa\"},\"name\":\"3\",\"notched\":false,\"offsetgroup\":\"3\",\"orientation\":\"v\",\"showlegend\":true,\"x\":[3,3,3,3,3,3,3,3,3,3,3,3,3,3,3,3,3,3,3,3,3,3,3,3,3,3,3,3,3,3,3,3,3,3,3,3,3,3,3,3,3,3,3,3,3,3,3,3,3,3,3,3,3,3,3,3,3,3,3,3,3,3,3,3,3,3,3,3,3,3,3,3,3,3,3,3,3,3,3,3,3,3,3,3,3,3,3,3,3,3,3,3,3,3,3,3,3,3,3,3,3,3,3,3,3,3,3,3,3,3,3,3,3,3,3,3,3,3,3,3,3,3,3,3,3,3,3,3,3,3,3,3,3,3,3,3,3,3,3,3,3,3,3,3,3,3,3,3,3,3,3,3,3,3,3,3,3,3,3,3,3,3,3,3,3,3,3,3,3,3,3,3,3,3,3,3,3,3,3,3,3,3,3,3,3,3,3,3],\"x0\":\" \",\"xaxis\":\"x\",\"y\":[33.73,35.67,29.03,39.25,32.9,22.18,42.98,26.68,33.42,37.93,33.85,40.25,61.59,63.64,54.68,61.24,62.93,58.77,70.6,65.06,59.76,66.11,62.16,64.04,59.65,57.04,59.73,56.72,58.55,62.19,53.14,62.27,86.14,82.56,79.36,77.17,89.7,78.43,84.05,81.18,83.02,90.3,85.18,89.77,82.64,82.89,82.13,88.91,87.7,81.16,81.58,94.21,96.48,84.13,91.98,81.72,84.34,87.9,76.12,82.72,94.89,74.75,93.63,80.82,91.61,79.02,86.11,82.88,51.47,53.47,46.83,56.7,52.23,51.68,46.22,46.03,45.56,55.19,37.84,50.07,50.11,55.59,54.37,51.91,57.37,55.53,51.16,57.06,50.59,48.64,50.55,49.08,24.75,41.47,35.1,34.33,37.17,30.52,32.51,29.12,47.48,39.41,43.29,42.59,34.46,40.13,32.18,43.73,49.01,46.29,37.14,42.82,47.22,35.24,47.22,43.15,40.29,48.35,43.26,44.2,46.14,41.12,45.03,38.85,41.96,42.27,38.51,43.51,40.43,51.15,42.5,52.76,47.63,52.21,40.17,48.36,53.56,49.72,48.77,46.84,49.67,49.98,49.5,47.35,50.26,52.05,51.14,46.3,54.79,52.39,42.15,49.63,48.06,51.09,44.19,49.52,44.66,53.78,43.91,52.41,50.94,49.38,63.98,45.84,51.01,56.16,45.77,46.47,55.9,59.8,60.97,64.14,39.98,54.58,52.64,45.43,51.89,51.17,54.33,50.05,54.34,60.24,56.39,58.33,53.5,56.34,51.83,50.2],\"y0\":\" \",\"yaxis\":\"y\",\"type\":\"box\"},{\"alignmentgroup\":\"True\",\"hovertemplate\":\"Promotion=%{x}\\u003cbr\\u003eSalesInThousands=%{y}\\u003cextra\\u003e\\u003c\\u002fextra\\u003e\",\"legendgroup\":\"2\",\"marker\":{\"color\":\"#EF553B\"},\"name\":\"2\",\"notched\":false,\"offsetgroup\":\"2\",\"orientation\":\"v\",\"showlegend\":true,\"x\":[2,2,2,2,2,2,2,2,2,2,2,2,2,2,2,2,2,2,2,2,2,2,2,2,2,2,2,2,2,2,2,2,2,2,2,2,2,2,2,2,2,2,2,2,2,2,2,2,2,2,2,2,2,2,2,2,2,2,2,2,2,2,2,2,2,2,2,2,2,2,2,2,2,2,2,2,2,2,2,2,2,2,2,2,2,2,2,2,2,2,2,2,2,2,2,2,2,2,2,2,2,2,2,2,2,2,2,2,2,2,2,2,2,2,2,2,2,2,2,2,2,2,2,2,2,2,2,2,2,2,2,2,2,2,2,2,2,2,2,2,2,2,2,2,2,2,2,2,2,2,2,2,2,2,2,2,2,2,2,2,2,2,2,2,2,2,2,2,2,2,2,2,2,2,2,2,2,2,2,2,2,2,2,2,2,2,2,2],\"x0\":\" \",\"xaxis\":\"x\",\"y\":[27.81,34.67,27.98,27.72,39.28,39.8,24.77,30.98,30.37,24.82,37.47,23.35,30.08,28.62,25.4,27.26,34.27,29.3,23.93,35.16,87.43,81.79,88.12,75.29,88.64,81.37,82.14,79.64,73.22,75.88,78.01,80.17,82.65,77.39,80.83,80.75,66.22,82.86,83.4,75.61,79.53,74.03,78.53,76.71,49.61,43.69,54.49,61.25,47.89,52.37,49.11,52.88,46.98,53.41,36.17,55.98,51.87,58.01,47.93,51.33,40.4,50.28,52.72,38.3,51.79,42.56,44.64,45.11,42.15,42.59,49.56,39.25,48.18,48.25,46.42,43.77,45.3,48.84,45.08,44.67,47.33,45.42,44.31,40.26,43.27,48.33,44.14,51.5,46.26,47.71,54.09,46.89,31.94,29.64,33.64,36.05,36.7,41.53,27.71,37.2,32.21,38.41,37.9,44.84,37.45,35.46,31.85,19.26,38.65,17.34,33.14,23.44,32.77,30.26,27.55,27.37,40.71,38.26,41.44,25.7,49.39,40.25,42.46,31.62,38.56,37.29,35.6,33.35,48.5,36.8,48.32,41.54,32.61,57.27,37.32,41.22,39.73,50.3,40.16,41.37,48.76,44.14,58.1,44.16,46.02,51.09,51.68,55.91,53.76,39.36,47.2,53.66,51.09,54.82,44.16,53.95,51.26,51.73,51.35,41.85,45.21,55.02,45.35,47.06,43.59,46.03,47.22,51.41,55.39,49.16,58.26,48.12,49.98,44.84,55.12,47.36,44.7,43.44,52.36,45.9,43.61,46.2,51.52,49.71,50.2,45.75,44.29,49.41],\"y0\":\" \",\"yaxis\":\"y\",\"type\":\"box\"},{\"alignmentgroup\":\"True\",\"hovertemplate\":\"Promotion=%{x}\\u003cbr\\u003eSalesInThousands=%{y}\\u003cextra\\u003e\\u003c\\u002fextra\\u003e\",\"legendgroup\":\"1\",\"marker\":{\"color\":\"#00cc96\"},\"name\":\"1\",\"notched\":false,\"offsetgroup\":\"1\",\"orientation\":\"v\",\"showlegend\":true,\"x\":[1,1,1,1,1,1,1,1,1,1,1,1,1,1,1,1,1,1,1,1,1,1,1,1,1,1,1,1,1,1,1,1,1,1,1,1,1,1,1,1,1,1,1,1,1,1,1,1,1,1,1,1,1,1,1,1,1,1,1,1,1,1,1,1,1,1,1,1,1,1,1,1,1,1,1,1,1,1,1,1,1,1,1,1,1,1,1,1,1,1,1,1,1,1,1,1,1,1,1,1,1,1,1,1,1,1,1,1,1,1,1,1,1,1,1,1,1,1,1,1,1,1,1,1,1,1,1,1,1,1,1,1,1,1,1,1,1,1,1,1,1,1,1,1,1,1,1,1,1,1,1,1,1,1,1,1,1,1,1,1,1,1,1,1,1,1,1,1,1,1,1,1],\"x0\":\" \",\"xaxis\":\"x\",\"y\":[44.54,37.94,45.49,34.75,42.92,42.16,51.72,36.17,37.41,38.64,40.9,41.11,35.85,36.24,41.73,37.32,50.48,36.88,35.68,46.45,67.48,65.57,68.42,60.93,88.73,85.21,81.55,94.17,93.71,96.01,93.03,97.61,85.11,88.07,94.43,89.44,91.6,80.61,93.86,83.43,99.65,88.64,86.96,89.25,87.08,89.32,99.12,85.85,93.32,85.71,77.36,91.29,55.94,61.36,56.19,62.06,54.01,63.48,61.96,55.3,53.79,66.96,57.1,65.12,62.16,54.06,51.72,59.64,49.95,55.11,55.28,54.7,59.34,62.63,49.08,58.04,42.16,36.8,46.98,47.35,40.46,41.25,32.05,47.5,35.3,35.86,49.3,30.81,44.98,41.71,41.1,40.97,41.1,41.56,36.39,39.67,53.38,55.31,56.1,43.24,48.18,43.11,43.78,56.9,53.53,47.92,56.18,46.66,42.76,50.52,56.86,47.51,51.82,45.02,49.44,51.32,52.85,40.84,64.45,44.43,56.64,46.06,55.46,51.41,56.99,45.57,45.92,50.52,54.95,55.78,46.49,56.84,65.11,54.38,57.14,49.91,50.54,58.43,59.77,60.44,49.3,61.8,58.0,55.2,61.53,59.17,63.73,61.77,58.19,62.72,66.66,64.66,66.34,60.59,61.95,67.84,62.33,53.68,62.37,63.58,53.51,49.76,68.31,66.1,49.62,62.54,50.11,61.63,59.87,62.99,57.2,64.34],\"y0\":\" \",\"yaxis\":\"y\",\"type\":\"box\"}],                        {\"template\":{\"data\":{\"histogram2dcontour\":[{\"type\":\"histogram2dcontour\",\"colorbar\":{\"outlinewidth\":0,\"ticks\":\"\"},\"colorscale\":[[0.0,\"#0d0887\"],[0.1111111111111111,\"#46039f\"],[0.2222222222222222,\"#7201a8\"],[0.3333333333333333,\"#9c179e\"],[0.4444444444444444,\"#bd3786\"],[0.5555555555555556,\"#d8576b\"],[0.6666666666666666,\"#ed7953\"],[0.7777777777777778,\"#fb9f3a\"],[0.8888888888888888,\"#fdca26\"],[1.0,\"#f0f921\"]]}],\"choropleth\":[{\"type\":\"choropleth\",\"colorbar\":{\"outlinewidth\":0,\"ticks\":\"\"}}],\"histogram2d\":[{\"type\":\"histogram2d\",\"colorbar\":{\"outlinewidth\":0,\"ticks\":\"\"},\"colorscale\":[[0.0,\"#0d0887\"],[0.1111111111111111,\"#46039f\"],[0.2222222222222222,\"#7201a8\"],[0.3333333333333333,\"#9c179e\"],[0.4444444444444444,\"#bd3786\"],[0.5555555555555556,\"#d8576b\"],[0.6666666666666666,\"#ed7953\"],[0.7777777777777778,\"#fb9f3a\"],[0.8888888888888888,\"#fdca26\"],[1.0,\"#f0f921\"]]}],\"heatmap\":[{\"type\":\"heatmap\",\"colorbar\":{\"outlinewidth\":0,\"ticks\":\"\"},\"colorscale\":[[0.0,\"#0d0887\"],[0.1111111111111111,\"#46039f\"],[0.2222222222222222,\"#7201a8\"],[0.3333333333333333,\"#9c179e\"],[0.4444444444444444,\"#bd3786\"],[0.5555555555555556,\"#d8576b\"],[0.6666666666666666,\"#ed7953\"],[0.7777777777777778,\"#fb9f3a\"],[0.8888888888888888,\"#fdca26\"],[1.0,\"#f0f921\"]]}],\"heatmapgl\":[{\"type\":\"heatmapgl\",\"colorbar\":{\"outlinewidth\":0,\"ticks\":\"\"},\"colorscale\":[[0.0,\"#0d0887\"],[0.1111111111111111,\"#46039f\"],[0.2222222222222222,\"#7201a8\"],[0.3333333333333333,\"#9c179e\"],[0.4444444444444444,\"#bd3786\"],[0.5555555555555556,\"#d8576b\"],[0.6666666666666666,\"#ed7953\"],[0.7777777777777778,\"#fb9f3a\"],[0.8888888888888888,\"#fdca26\"],[1.0,\"#f0f921\"]]}],\"contourcarpet\":[{\"type\":\"contourcarpet\",\"colorbar\":{\"outlinewidth\":0,\"ticks\":\"\"}}],\"contour\":[{\"type\":\"contour\",\"colorbar\":{\"outlinewidth\":0,\"ticks\":\"\"},\"colorscale\":[[0.0,\"#0d0887\"],[0.1111111111111111,\"#46039f\"],[0.2222222222222222,\"#7201a8\"],[0.3333333333333333,\"#9c179e\"],[0.4444444444444444,\"#bd3786\"],[0.5555555555555556,\"#d8576b\"],[0.6666666666666666,\"#ed7953\"],[0.7777777777777778,\"#fb9f3a\"],[0.8888888888888888,\"#fdca26\"],[1.0,\"#f0f921\"]]}],\"surface\":[{\"type\":\"surface\",\"colorbar\":{\"outlinewidth\":0,\"ticks\":\"\"},\"colorscale\":[[0.0,\"#0d0887\"],[0.1111111111111111,\"#46039f\"],[0.2222222222222222,\"#7201a8\"],[0.3333333333333333,\"#9c179e\"],[0.4444444444444444,\"#bd3786\"],[0.5555555555555556,\"#d8576b\"],[0.6666666666666666,\"#ed7953\"],[0.7777777777777778,\"#fb9f3a\"],[0.8888888888888888,\"#fdca26\"],[1.0,\"#f0f921\"]]}],\"mesh3d\":[{\"type\":\"mesh3d\",\"colorbar\":{\"outlinewidth\":0,\"ticks\":\"\"}}],\"scatter\":[{\"fillpattern\":{\"fillmode\":\"overlay\",\"size\":10,\"solidity\":0.2},\"type\":\"scatter\"}],\"parcoords\":[{\"type\":\"parcoords\",\"line\":{\"colorbar\":{\"outlinewidth\":0,\"ticks\":\"\"}}}],\"scatterpolargl\":[{\"type\":\"scatterpolargl\",\"marker\":{\"colorbar\":{\"outlinewidth\":0,\"ticks\":\"\"}}}],\"bar\":[{\"error_x\":{\"color\":\"#2a3f5f\"},\"error_y\":{\"color\":\"#2a3f5f\"},\"marker\":{\"line\":{\"color\":\"#E5ECF6\",\"width\":0.5},\"pattern\":{\"fillmode\":\"overlay\",\"size\":10,\"solidity\":0.2}},\"type\":\"bar\"}],\"scattergeo\":[{\"type\":\"scattergeo\",\"marker\":{\"colorbar\":{\"outlinewidth\":0,\"ticks\":\"\"}}}],\"scatterpolar\":[{\"type\":\"scatterpolar\",\"marker\":{\"colorbar\":{\"outlinewidth\":0,\"ticks\":\"\"}}}],\"histogram\":[{\"marker\":{\"pattern\":{\"fillmode\":\"overlay\",\"size\":10,\"solidity\":0.2}},\"type\":\"histogram\"}],\"scattergl\":[{\"type\":\"scattergl\",\"marker\":{\"colorbar\":{\"outlinewidth\":0,\"ticks\":\"\"}}}],\"scatter3d\":[{\"type\":\"scatter3d\",\"line\":{\"colorbar\":{\"outlinewidth\":0,\"ticks\":\"\"}},\"marker\":{\"colorbar\":{\"outlinewidth\":0,\"ticks\":\"\"}}}],\"scattermapbox\":[{\"type\":\"scattermapbox\",\"marker\":{\"colorbar\":{\"outlinewidth\":0,\"ticks\":\"\"}}}],\"scatterternary\":[{\"type\":\"scatterternary\",\"marker\":{\"colorbar\":{\"outlinewidth\":0,\"ticks\":\"\"}}}],\"scattercarpet\":[{\"type\":\"scattercarpet\",\"marker\":{\"colorbar\":{\"outlinewidth\":0,\"ticks\":\"\"}}}],\"carpet\":[{\"aaxis\":{\"endlinecolor\":\"#2a3f5f\",\"gridcolor\":\"white\",\"linecolor\":\"white\",\"minorgridcolor\":\"white\",\"startlinecolor\":\"#2a3f5f\"},\"baxis\":{\"endlinecolor\":\"#2a3f5f\",\"gridcolor\":\"white\",\"linecolor\":\"white\",\"minorgridcolor\":\"white\",\"startlinecolor\":\"#2a3f5f\"},\"type\":\"carpet\"}],\"table\":[{\"cells\":{\"fill\":{\"color\":\"#EBF0F8\"},\"line\":{\"color\":\"white\"}},\"header\":{\"fill\":{\"color\":\"#C8D4E3\"},\"line\":{\"color\":\"white\"}},\"type\":\"table\"}],\"barpolar\":[{\"marker\":{\"line\":{\"color\":\"#E5ECF6\",\"width\":0.5},\"pattern\":{\"fillmode\":\"overlay\",\"size\":10,\"solidity\":0.2}},\"type\":\"barpolar\"}],\"pie\":[{\"automargin\":true,\"type\":\"pie\"}]},\"layout\":{\"autotypenumbers\":\"strict\",\"colorway\":[\"#636efa\",\"#EF553B\",\"#00cc96\",\"#ab63fa\",\"#FFA15A\",\"#19d3f3\",\"#FF6692\",\"#B6E880\",\"#FF97FF\",\"#FECB52\"],\"font\":{\"color\":\"#2a3f5f\"},\"hovermode\":\"closest\",\"hoverlabel\":{\"align\":\"left\"},\"paper_bgcolor\":\"white\",\"plot_bgcolor\":\"#E5ECF6\",\"polar\":{\"bgcolor\":\"#E5ECF6\",\"angularaxis\":{\"gridcolor\":\"white\",\"linecolor\":\"white\",\"ticks\":\"\"},\"radialaxis\":{\"gridcolor\":\"white\",\"linecolor\":\"white\",\"ticks\":\"\"}},\"ternary\":{\"bgcolor\":\"#E5ECF6\",\"aaxis\":{\"gridcolor\":\"white\",\"linecolor\":\"white\",\"ticks\":\"\"},\"baxis\":{\"gridcolor\":\"white\",\"linecolor\":\"white\",\"ticks\":\"\"},\"caxis\":{\"gridcolor\":\"white\",\"linecolor\":\"white\",\"ticks\":\"\"}},\"coloraxis\":{\"colorbar\":{\"outlinewidth\":0,\"ticks\":\"\"}},\"colorscale\":{\"sequential\":[[0.0,\"#0d0887\"],[0.1111111111111111,\"#46039f\"],[0.2222222222222222,\"#7201a8\"],[0.3333333333333333,\"#9c179e\"],[0.4444444444444444,\"#bd3786\"],[0.5555555555555556,\"#d8576b\"],[0.6666666666666666,\"#ed7953\"],[0.7777777777777778,\"#fb9f3a\"],[0.8888888888888888,\"#fdca26\"],[1.0,\"#f0f921\"]],\"sequentialminus\":[[0.0,\"#0d0887\"],[0.1111111111111111,\"#46039f\"],[0.2222222222222222,\"#7201a8\"],[0.3333333333333333,\"#9c179e\"],[0.4444444444444444,\"#bd3786\"],[0.5555555555555556,\"#d8576b\"],[0.6666666666666666,\"#ed7953\"],[0.7777777777777778,\"#fb9f3a\"],[0.8888888888888888,\"#fdca26\"],[1.0,\"#f0f921\"]],\"diverging\":[[0,\"#8e0152\"],[0.1,\"#c51b7d\"],[0.2,\"#de77ae\"],[0.3,\"#f1b6da\"],[0.4,\"#fde0ef\"],[0.5,\"#f7f7f7\"],[0.6,\"#e6f5d0\"],[0.7,\"#b8e186\"],[0.8,\"#7fbc41\"],[0.9,\"#4d9221\"],[1,\"#276419\"]]},\"xaxis\":{\"gridcolor\":\"white\",\"linecolor\":\"white\",\"ticks\":\"\",\"title\":{\"standoff\":15},\"zerolinecolor\":\"white\",\"automargin\":true,\"zerolinewidth\":2},\"yaxis\":{\"gridcolor\":\"white\",\"linecolor\":\"white\",\"ticks\":\"\",\"title\":{\"standoff\":15},\"zerolinecolor\":\"white\",\"automargin\":true,\"zerolinewidth\":2},\"scene\":{\"xaxis\":{\"backgroundcolor\":\"#E5ECF6\",\"gridcolor\":\"white\",\"linecolor\":\"white\",\"showbackground\":true,\"ticks\":\"\",\"zerolinecolor\":\"white\",\"gridwidth\":2},\"yaxis\":{\"backgroundcolor\":\"#E5ECF6\",\"gridcolor\":\"white\",\"linecolor\":\"white\",\"showbackground\":true,\"ticks\":\"\",\"zerolinecolor\":\"white\",\"gridwidth\":2},\"zaxis\":{\"backgroundcolor\":\"#E5ECF6\",\"gridcolor\":\"white\",\"linecolor\":\"white\",\"showbackground\":true,\"ticks\":\"\",\"zerolinecolor\":\"white\",\"gridwidth\":2}},\"shapedefaults\":{\"line\":{\"color\":\"#2a3f5f\"}},\"annotationdefaults\":{\"arrowcolor\":\"#2a3f5f\",\"arrowhead\":0,\"arrowwidth\":1},\"geo\":{\"bgcolor\":\"white\",\"landcolor\":\"#E5ECF6\",\"subunitcolor\":\"white\",\"showland\":true,\"showlakes\":true,\"lakecolor\":\"white\"},\"title\":{\"x\":0.05},\"mapbox\":{\"style\":\"light\"}}},\"xaxis\":{\"anchor\":\"y\",\"domain\":[0.0,1.0],\"title\":{\"text\":\"\\u041f\\u0440\\u043e\\u0442\\u0435\\u0441\\u0442\\u0438\\u0440\\u043e\\u0432\\u0430\\u043d\\u043d\\u044b\\u0435 \\u0430\\u043a\\u0446\\u0438\\u0438\"},\"categoryorder\":\"array\",\"categoryarray\":[3,2,1]},\"yaxis\":{\"anchor\":\"x\",\"domain\":[0.0,1.0],\"title\":{\"text\":\"\\u041e\\u0431\\u044a\\u0435\\u043c \\u043f\\u0440\\u043e\\u0434\\u0430\\u0436\"}},\"legend\":{\"title\":{\"text\":\"\\u0422\\u0438\\u043f \\u0430\\u043a\\u0446\\u0438\\u0438\"},\"tracegroupgap\":0},\"margin\":{\"t\":60},\"boxmode\":\"overlay\",\"title\":{\"text\":\"\\u0421\\u0440\\u0430\\u0432\\u043d\\u0435\\u043d\\u0438\\u0435 \\u043e\\u0431\\u044a\\u0435\\u043c\\u0430 \\u043f\\u0440\\u043e\\u0434\\u0430\\u0436 \\u043f\\u0440\\u043e\\u0442\\u0435\\u0441\\u0442\\u0438\\u0440\\u043e\\u0432\\u0430\\u043d\\u043d\\u044b\\u0445 \\u0430\\u043a\\u0446\\u0438\\u0439\"},\"width\":1000,\"height\":600},                        {\"responsive\": true}                    ).then(function(){\n",
       "                            \n",
       "var gd = document.getElementById('213f0388-d038-4812-b80b-224e5fab9666');\n",
       "var x = new MutationObserver(function (mutations, observer) {{\n",
       "        var display = window.getComputedStyle(gd).display;\n",
       "        if (!display || display === 'none') {{\n",
       "            console.log([gd, 'removed!']);\n",
       "            Plotly.purge(gd);\n",
       "            observer.disconnect();\n",
       "        }}\n",
       "}});\n",
       "\n",
       "// Listen for the removal of the full notebook cells\n",
       "var notebookContainer = gd.closest('#notebook-container');\n",
       "if (notebookContainer) {{\n",
       "    x.observe(notebookContainer, {childList: true});\n",
       "}}\n",
       "\n",
       "// Listen for the clearing of the current output cell\n",
       "var outputEl = gd.closest('.output');\n",
       "if (outputEl) {{\n",
       "    x.observe(outputEl, {childList: true});\n",
       "}}\n",
       "\n",
       "                        })                };                });            </script>        </div>"
      ]
     },
     "metadata": {},
     "output_type": "display_data"
    }
   ],
   "source": [
    "# построим \"ящик с усами\" с помощью plotly\n",
    "fig = px.box(df, x=\"Promotion\", y=\"SalesInThousands\", color=\"Promotion\")\n",
    "\n",
    "fig.update_layout(\n",
    "    title='Сравнение объема продаж протестированных акций',\n",
    "    xaxis_title='Протестированные акции',\n",
    "    yaxis_title='Объем продаж',\n",
    "    legend_title=\"Тип акции\",\n",
    "    width=1000,\n",
    "    height=600\n",
    ")\n",
    "\n",
    "fig.show()"
   ]
  },
  {
   "cell_type": "markdown",
   "id": "03f6a15d-d752-476f-b033-c525e7317e76",
   "metadata": {},
   "source": [
    "В соответствии с графиком выше, можно заметить, что в данных присутствуют выбросы. Необходимо избавиться от них для корректного проведения дальнейшего анализа."
   ]
  },
  {
   "cell_type": "markdown",
   "id": "fbf7303d-3570-4c7b-9d69-2b37d962c463",
   "metadata": {},
   "source": [
    "##### Работа с выбросами"
   ]
  },
  {
   "cell_type": "markdown",
   "id": "abff06a9-f481-4438-b661-d60fae7c0e33",
   "metadata": {},
   "source": [
    "Заменим значения выбросов на верхнюю и нижнюю границы в соответствии с межквартильным размахом."
   ]
  },
  {
   "cell_type": "code",
   "execution_count": 221,
   "id": "afd9cd8d-2877-4d97-a96d-59cb806930d0",
   "metadata": {},
   "outputs": [],
   "source": [
    "def outliers_in_df(df, var_num):\n",
    "    \"\"\"\n",
    "        Функция вычисляет верхнюю и нижнюю границы выбросов \n",
    "        для переменной var_num.\n",
    "    \"\"\"\n",
    "    q1 = df[var_num].quantile(0.25)\n",
    "    q3 = df[var_num].quantile(0.75)\n",
    "    iqr = q3 - q1\n",
    "    upper_limit = q3 + 1.5*iqr\n",
    "    low_limit = q1 - 1.5*iqr\n",
    "    \n",
    "    return upper_limit, low_limit\n",
    "\n",
    "\n",
    "def replace_outliers(df, var_num):\n",
    "    \"\"\"\n",
    "        Функция заменяет значения выбросов в df[var] на границы \n",
    "        межквартильного размаха.\n",
    "    \"\"\"\n",
    "    upper_limit, low_limit = outliers_in_df(df, var_num)\n",
    "    df.loc[(df[var_num] < low_limit), var_num] = low_limit\n",
    "    df.loc[(df[var_num] > upper_limit), var_num] = upper_limit"
   ]
  },
  {
   "cell_type": "code",
   "execution_count": 219,
   "id": "9bb648a2-e65c-40ac-b9f3-2043c805d199",
   "metadata": {},
   "outputs": [
    {
     "data": {
      "text/plain": [
       "99.65"
      ]
     },
     "execution_count": 219,
     "metadata": {},
     "output_type": "execute_result"
    }
   ],
   "source": [
    "all_df_list[0].SalesInThousands.max()"
   ]
  },
  {
   "cell_type": "code",
   "execution_count": 222,
   "id": "486cfb3f-d769-4fd5-a7e1-e311e9c9ef34",
   "metadata": {},
   "outputs": [],
   "source": [
    "# список датафреймов по разному типу проводимой акции\n",
    "df_1_prom = df.loc[df['Promotion']==1]\n",
    "df_2_prom = df.loc[df['Promotion']==2]\n",
    "df_3_prom = df.loc[df['Promotion']==3]\n",
    "all_df_list = [df_1_prom, df_2_prom, df_3_prom]\n",
    "\n",
    "# замена выбросов для каждого df\n",
    "for i in all_df_list:\n",
    "    replace_outliers(i, 'SalesInThousands')"
   ]
  },
  {
   "cell_type": "code",
   "execution_count": 225,
   "id": "f87b2eef-48cb-4330-91fc-f721ffc9eff2",
   "metadata": {},
   "outputs": [],
   "source": [
    "# объединим датафреймы\n",
    "df_new = pd.concat([df_1_prom, df_2_prom, df_3_prom], ignore_index=True)"
   ]
  },
  {
   "cell_type": "code",
   "execution_count": 227,
   "id": "4ad03ce8-f970-4b90-b9cc-475b041aaf04",
   "metadata": {},
   "outputs": [
    {
     "data": {
      "application/vnd.plotly.v1+json": {
       "config": {
        "plotlyServerURL": "https://plot.ly"
       },
       "data": [
        {
         "alignmentgroup": "True",
         "hovertemplate": "Promotion=%{x}<br>SalesInThousands=%{y}<extra></extra>",
         "legendgroup": "1",
         "marker": {
          "color": "#636efa"
         },
         "name": "1",
         "notched": false,
         "offsetgroup": "1",
         "orientation": "v",
         "showlegend": true,
         "type": "box",
         "x": [
          1,
          1,
          1,
          1,
          1,
          1,
          1,
          1,
          1,
          1,
          1,
          1,
          1,
          1,
          1,
          1,
          1,
          1,
          1,
          1,
          1,
          1,
          1,
          1,
          1,
          1,
          1,
          1,
          1,
          1,
          1,
          1,
          1,
          1,
          1,
          1,
          1,
          1,
          1,
          1,
          1,
          1,
          1,
          1,
          1,
          1,
          1,
          1,
          1,
          1,
          1,
          1,
          1,
          1,
          1,
          1,
          1,
          1,
          1,
          1,
          1,
          1,
          1,
          1,
          1,
          1,
          1,
          1,
          1,
          1,
          1,
          1,
          1,
          1,
          1,
          1,
          1,
          1,
          1,
          1,
          1,
          1,
          1,
          1,
          1,
          1,
          1,
          1,
          1,
          1,
          1,
          1,
          1,
          1,
          1,
          1,
          1,
          1,
          1,
          1,
          1,
          1,
          1,
          1,
          1,
          1,
          1,
          1,
          1,
          1,
          1,
          1,
          1,
          1,
          1,
          1,
          1,
          1,
          1,
          1,
          1,
          1,
          1,
          1,
          1,
          1,
          1,
          1,
          1,
          1,
          1,
          1,
          1,
          1,
          1,
          1,
          1,
          1,
          1,
          1,
          1,
          1,
          1,
          1,
          1,
          1,
          1,
          1,
          1,
          1,
          1,
          1,
          1,
          1,
          1,
          1,
          1,
          1,
          1,
          1,
          1,
          1,
          1,
          1,
          1,
          1,
          1,
          1,
          1,
          1,
          1,
          1
         ],
         "x0": " ",
         "xaxis": "x",
         "y": [
          44.54,
          37.94,
          45.49,
          34.75,
          42.92,
          42.16,
          51.72,
          36.17,
          37.41,
          38.64,
          40.9,
          41.11,
          35.85,
          36.24,
          41.73,
          37.32,
          50.48,
          36.88,
          35.68,
          46.45,
          67.48,
          65.57,
          68.42,
          60.93,
          88.73,
          85.21,
          81.55,
          89.51499999999999,
          89.51499999999999,
          89.51499999999999,
          89.51499999999999,
          89.51499999999999,
          85.11,
          88.07,
          89.51499999999999,
          89.44,
          89.51499999999999,
          80.61,
          89.51499999999999,
          83.43,
          89.51499999999999,
          88.64,
          86.96,
          89.25,
          87.08,
          89.32,
          89.51499999999999,
          85.85,
          89.51499999999999,
          85.71,
          77.36,
          89.51499999999999,
          55.94,
          61.36,
          56.19,
          62.06,
          54.01,
          63.48,
          61.96,
          55.3,
          53.79,
          66.96,
          57.1,
          65.12,
          62.16,
          54.06,
          51.72,
          59.64,
          49.95,
          55.11,
          55.28,
          54.7,
          59.34,
          62.63,
          49.08,
          58.04,
          42.16,
          36.8,
          46.98,
          47.35,
          40.46,
          41.25,
          32.05,
          47.5,
          35.3,
          35.86,
          49.3,
          30.81,
          44.98,
          41.71,
          41.1,
          40.97,
          41.1,
          41.56,
          36.39,
          39.67,
          53.38,
          55.31,
          56.1,
          43.24,
          48.18,
          43.11,
          43.78,
          56.9,
          53.53,
          47.92,
          56.18,
          46.66,
          42.76,
          50.52,
          56.86,
          47.51,
          51.82,
          45.02,
          49.44,
          51.32,
          52.85,
          40.84,
          64.45,
          44.43,
          56.64,
          46.06,
          55.46,
          51.41,
          56.99,
          45.57,
          45.92,
          50.52,
          54.95,
          55.78,
          46.49,
          56.84,
          65.11,
          54.38,
          57.14,
          49.91,
          50.54,
          58.43,
          59.77,
          60.44,
          49.3,
          61.8,
          58,
          55.2,
          61.53,
          59.17,
          63.73,
          61.77,
          58.19,
          62.72,
          66.66,
          64.66,
          66.34,
          60.59,
          61.95,
          67.84,
          62.33,
          53.68,
          62.37,
          63.58,
          53.51,
          49.76,
          68.31,
          66.1,
          49.62,
          62.54,
          50.11,
          61.63,
          59.87,
          62.99,
          57.2,
          64.34
         ],
         "y0": " ",
         "yaxis": "y"
        },
        {
         "alignmentgroup": "True",
         "hovertemplate": "Promotion=%{x}<br>SalesInThousands=%{y}<extra></extra>",
         "legendgroup": "2",
         "marker": {
          "color": "#EF553B"
         },
         "name": "2",
         "notched": false,
         "offsetgroup": "2",
         "orientation": "v",
         "showlegend": true,
         "type": "box",
         "x": [
          2,
          2,
          2,
          2,
          2,
          2,
          2,
          2,
          2,
          2,
          2,
          2,
          2,
          2,
          2,
          2,
          2,
          2,
          2,
          2,
          2,
          2,
          2,
          2,
          2,
          2,
          2,
          2,
          2,
          2,
          2,
          2,
          2,
          2,
          2,
          2,
          2,
          2,
          2,
          2,
          2,
          2,
          2,
          2,
          2,
          2,
          2,
          2,
          2,
          2,
          2,
          2,
          2,
          2,
          2,
          2,
          2,
          2,
          2,
          2,
          2,
          2,
          2,
          2,
          2,
          2,
          2,
          2,
          2,
          2,
          2,
          2,
          2,
          2,
          2,
          2,
          2,
          2,
          2,
          2,
          2,
          2,
          2,
          2,
          2,
          2,
          2,
          2,
          2,
          2,
          2,
          2,
          2,
          2,
          2,
          2,
          2,
          2,
          2,
          2,
          2,
          2,
          2,
          2,
          2,
          2,
          2,
          2,
          2,
          2,
          2,
          2,
          2,
          2,
          2,
          2,
          2,
          2,
          2,
          2,
          2,
          2,
          2,
          2,
          2,
          2,
          2,
          2,
          2,
          2,
          2,
          2,
          2,
          2,
          2,
          2,
          2,
          2,
          2,
          2,
          2,
          2,
          2,
          2,
          2,
          2,
          2,
          2,
          2,
          2,
          2,
          2,
          2,
          2,
          2,
          2,
          2,
          2,
          2,
          2,
          2,
          2,
          2,
          2,
          2,
          2,
          2,
          2,
          2,
          2,
          2,
          2,
          2,
          2,
          2,
          2,
          2,
          2,
          2,
          2,
          2,
          2,
          2,
          2,
          2,
          2,
          2,
          2
         ],
         "x0": " ",
         "xaxis": "x",
         "y": [
          27.81,
          34.67,
          27.98,
          27.72,
          39.28,
          39.8,
          24.77,
          30.98,
          30.37,
          24.82,
          37.47,
          23.35,
          30.08,
          28.62,
          25.4,
          27.26,
          34.27,
          29.3,
          23.93,
          35.16,
          72.10749999999999,
          72.10749999999999,
          72.10749999999999,
          72.10749999999999,
          72.10749999999999,
          72.10749999999999,
          72.10749999999999,
          72.10749999999999,
          72.10749999999999,
          72.10749999999999,
          72.10749999999999,
          72.10749999999999,
          72.10749999999999,
          72.10749999999999,
          72.10749999999999,
          72.10749999999999,
          66.22,
          72.10749999999999,
          72.10749999999999,
          72.10749999999999,
          72.10749999999999,
          72.10749999999999,
          72.10749999999999,
          72.10749999999999,
          49.61,
          43.69,
          54.49,
          61.25,
          47.89,
          52.37,
          49.11,
          52.88,
          46.98,
          53.41,
          36.17,
          55.98,
          51.87,
          58.01,
          47.93,
          51.33,
          40.4,
          50.28,
          52.72,
          38.3,
          51.79,
          42.56,
          44.64,
          45.11,
          42.15,
          42.59,
          49.56,
          39.25,
          48.18,
          48.25,
          46.42,
          43.77,
          45.3,
          48.84,
          45.08,
          44.67,
          47.33,
          45.42,
          44.31,
          40.26,
          43.27,
          48.33,
          44.14,
          51.5,
          46.26,
          47.71,
          54.09,
          46.89,
          31.94,
          29.64,
          33.64,
          36.05,
          36.7,
          41.53,
          27.71,
          37.2,
          32.21,
          38.41,
          37.9,
          44.84,
          37.45,
          35.46,
          31.85,
          19.26,
          38.65,
          17.807500000000008,
          33.14,
          23.44,
          32.77,
          30.26,
          27.55,
          27.37,
          40.71,
          38.26,
          41.44,
          25.7,
          49.39,
          40.25,
          42.46,
          31.62,
          38.56,
          37.29,
          35.6,
          33.35,
          48.5,
          36.8,
          48.32,
          41.54,
          32.61,
          57.27,
          37.32,
          41.22,
          39.73,
          50.3,
          40.16,
          41.37,
          48.76,
          44.14,
          58.1,
          44.16,
          46.02,
          51.09,
          51.68,
          55.91,
          53.76,
          39.36,
          47.2,
          53.66,
          51.09,
          54.82,
          44.16,
          53.95,
          51.26,
          51.73,
          51.35,
          41.85,
          45.21,
          55.02,
          45.35,
          47.06,
          43.59,
          46.03,
          47.22,
          51.41,
          55.39,
          49.16,
          58.26,
          48.12,
          49.98,
          44.84,
          55.12,
          47.36,
          44.7,
          43.44,
          52.36,
          45.9,
          43.61,
          46.2,
          51.52,
          49.71,
          50.2,
          45.75,
          44.29,
          49.41
         ],
         "y0": " ",
         "yaxis": "y"
        },
        {
         "alignmentgroup": "True",
         "hovertemplate": "Promotion=%{x}<br>SalesInThousands=%{y}<extra></extra>",
         "legendgroup": "3",
         "marker": {
          "color": "#00cc96"
         },
         "name": "3",
         "notched": false,
         "offsetgroup": "3",
         "orientation": "v",
         "showlegend": true,
         "type": "box",
         "x": [
          3,
          3,
          3,
          3,
          3,
          3,
          3,
          3,
          3,
          3,
          3,
          3,
          3,
          3,
          3,
          3,
          3,
          3,
          3,
          3,
          3,
          3,
          3,
          3,
          3,
          3,
          3,
          3,
          3,
          3,
          3,
          3,
          3,
          3,
          3,
          3,
          3,
          3,
          3,
          3,
          3,
          3,
          3,
          3,
          3,
          3,
          3,
          3,
          3,
          3,
          3,
          3,
          3,
          3,
          3,
          3,
          3,
          3,
          3,
          3,
          3,
          3,
          3,
          3,
          3,
          3,
          3,
          3,
          3,
          3,
          3,
          3,
          3,
          3,
          3,
          3,
          3,
          3,
          3,
          3,
          3,
          3,
          3,
          3,
          3,
          3,
          3,
          3,
          3,
          3,
          3,
          3,
          3,
          3,
          3,
          3,
          3,
          3,
          3,
          3,
          3,
          3,
          3,
          3,
          3,
          3,
          3,
          3,
          3,
          3,
          3,
          3,
          3,
          3,
          3,
          3,
          3,
          3,
          3,
          3,
          3,
          3,
          3,
          3,
          3,
          3,
          3,
          3,
          3,
          3,
          3,
          3,
          3,
          3,
          3,
          3,
          3,
          3,
          3,
          3,
          3,
          3,
          3,
          3,
          3,
          3,
          3,
          3,
          3,
          3,
          3,
          3,
          3,
          3,
          3,
          3,
          3,
          3,
          3,
          3,
          3,
          3,
          3,
          3,
          3,
          3,
          3,
          3,
          3,
          3,
          3,
          3,
          3,
          3,
          3,
          3,
          3,
          3,
          3,
          3,
          3,
          3,
          3,
          3,
          3,
          3,
          3,
          3
         ],
         "x0": " ",
         "xaxis": "x",
         "y": [
          33.73,
          35.67,
          29.03,
          39.25,
          32.9,
          22.18,
          42.98,
          26.68,
          33.42,
          37.93,
          33.85,
          40.25,
          61.59,
          63.64,
          54.68,
          61.24,
          62.93,
          58.77,
          70.6,
          65.06,
          59.76,
          66.11,
          62.16,
          64.04,
          59.65,
          57.04,
          59.73,
          56.72,
          58.55,
          62.19,
          53.14,
          62.27,
          86.14,
          82.56,
          79.36,
          77.17,
          88.035,
          78.43,
          84.05,
          81.18,
          83.02,
          88.035,
          85.18,
          88.035,
          82.64,
          82.89,
          82.13,
          88.035,
          87.7,
          81.16,
          81.58,
          88.035,
          88.035,
          84.13,
          88.035,
          81.72,
          84.34,
          87.9,
          76.12,
          82.72,
          88.035,
          74.75,
          88.035,
          80.82,
          88.035,
          79.02,
          86.11,
          82.88,
          51.47,
          53.47,
          46.83,
          56.7,
          52.23,
          51.68,
          46.22,
          46.03,
          45.56,
          55.19,
          37.84,
          50.07,
          50.11,
          55.59,
          54.37,
          51.91,
          57.37,
          55.53,
          51.16,
          57.06,
          50.59,
          48.64,
          50.55,
          49.08,
          24.75,
          41.47,
          35.1,
          34.33,
          37.17,
          30.52,
          32.51,
          29.12,
          47.48,
          39.41,
          43.29,
          42.59,
          34.46,
          40.13,
          32.18,
          43.73,
          49.01,
          46.29,
          37.14,
          42.82,
          47.22,
          35.24,
          47.22,
          43.15,
          40.29,
          48.35,
          43.26,
          44.2,
          46.14,
          41.12,
          45.03,
          38.85,
          41.96,
          42.27,
          38.51,
          43.51,
          40.43,
          51.15,
          42.5,
          52.76,
          47.63,
          52.21,
          40.17,
          48.36,
          53.56,
          49.72,
          48.77,
          46.84,
          49.67,
          49.98,
          49.5,
          47.35,
          50.26,
          52.05,
          51.14,
          46.3,
          54.79,
          52.39,
          42.15,
          49.63,
          48.06,
          51.09,
          44.19,
          49.52,
          44.66,
          53.78,
          43.91,
          52.41,
          50.94,
          49.38,
          63.98,
          45.84,
          51.01,
          56.16,
          45.77,
          46.47,
          55.9,
          59.8,
          60.97,
          64.14,
          39.98,
          54.58,
          52.64,
          45.43,
          51.89,
          51.17,
          54.33,
          50.05,
          54.34,
          60.24,
          56.39,
          58.33,
          53.5,
          56.34,
          51.83,
          50.2
         ],
         "y0": " ",
         "yaxis": "y"
        }
       ],
       "layout": {
        "boxmode": "overlay",
        "height": 600,
        "legend": {
         "title": {
          "text": "Тип акции"
         },
         "tracegroupgap": 0
        },
        "margin": {
         "t": 60
        },
        "template": {
         "data": {
          "bar": [
           {
            "error_x": {
             "color": "#2a3f5f"
            },
            "error_y": {
             "color": "#2a3f5f"
            },
            "marker": {
             "line": {
              "color": "#E5ECF6",
              "width": 0.5
             },
             "pattern": {
              "fillmode": "overlay",
              "size": 10,
              "solidity": 0.2
             }
            },
            "type": "bar"
           }
          ],
          "barpolar": [
           {
            "marker": {
             "line": {
              "color": "#E5ECF6",
              "width": 0.5
             },
             "pattern": {
              "fillmode": "overlay",
              "size": 10,
              "solidity": 0.2
             }
            },
            "type": "barpolar"
           }
          ],
          "carpet": [
           {
            "aaxis": {
             "endlinecolor": "#2a3f5f",
             "gridcolor": "white",
             "linecolor": "white",
             "minorgridcolor": "white",
             "startlinecolor": "#2a3f5f"
            },
            "baxis": {
             "endlinecolor": "#2a3f5f",
             "gridcolor": "white",
             "linecolor": "white",
             "minorgridcolor": "white",
             "startlinecolor": "#2a3f5f"
            },
            "type": "carpet"
           }
          ],
          "choropleth": [
           {
            "colorbar": {
             "outlinewidth": 0,
             "ticks": ""
            },
            "type": "choropleth"
           }
          ],
          "contour": [
           {
            "colorbar": {
             "outlinewidth": 0,
             "ticks": ""
            },
            "colorscale": [
             [
              0,
              "#0d0887"
             ],
             [
              0.1111111111111111,
              "#46039f"
             ],
             [
              0.2222222222222222,
              "#7201a8"
             ],
             [
              0.3333333333333333,
              "#9c179e"
             ],
             [
              0.4444444444444444,
              "#bd3786"
             ],
             [
              0.5555555555555556,
              "#d8576b"
             ],
             [
              0.6666666666666666,
              "#ed7953"
             ],
             [
              0.7777777777777778,
              "#fb9f3a"
             ],
             [
              0.8888888888888888,
              "#fdca26"
             ],
             [
              1,
              "#f0f921"
             ]
            ],
            "type": "contour"
           }
          ],
          "contourcarpet": [
           {
            "colorbar": {
             "outlinewidth": 0,
             "ticks": ""
            },
            "type": "contourcarpet"
           }
          ],
          "heatmap": [
           {
            "colorbar": {
             "outlinewidth": 0,
             "ticks": ""
            },
            "colorscale": [
             [
              0,
              "#0d0887"
             ],
             [
              0.1111111111111111,
              "#46039f"
             ],
             [
              0.2222222222222222,
              "#7201a8"
             ],
             [
              0.3333333333333333,
              "#9c179e"
             ],
             [
              0.4444444444444444,
              "#bd3786"
             ],
             [
              0.5555555555555556,
              "#d8576b"
             ],
             [
              0.6666666666666666,
              "#ed7953"
             ],
             [
              0.7777777777777778,
              "#fb9f3a"
             ],
             [
              0.8888888888888888,
              "#fdca26"
             ],
             [
              1,
              "#f0f921"
             ]
            ],
            "type": "heatmap"
           }
          ],
          "heatmapgl": [
           {
            "colorbar": {
             "outlinewidth": 0,
             "ticks": ""
            },
            "colorscale": [
             [
              0,
              "#0d0887"
             ],
             [
              0.1111111111111111,
              "#46039f"
             ],
             [
              0.2222222222222222,
              "#7201a8"
             ],
             [
              0.3333333333333333,
              "#9c179e"
             ],
             [
              0.4444444444444444,
              "#bd3786"
             ],
             [
              0.5555555555555556,
              "#d8576b"
             ],
             [
              0.6666666666666666,
              "#ed7953"
             ],
             [
              0.7777777777777778,
              "#fb9f3a"
             ],
             [
              0.8888888888888888,
              "#fdca26"
             ],
             [
              1,
              "#f0f921"
             ]
            ],
            "type": "heatmapgl"
           }
          ],
          "histogram": [
           {
            "marker": {
             "pattern": {
              "fillmode": "overlay",
              "size": 10,
              "solidity": 0.2
             }
            },
            "type": "histogram"
           }
          ],
          "histogram2d": [
           {
            "colorbar": {
             "outlinewidth": 0,
             "ticks": ""
            },
            "colorscale": [
             [
              0,
              "#0d0887"
             ],
             [
              0.1111111111111111,
              "#46039f"
             ],
             [
              0.2222222222222222,
              "#7201a8"
             ],
             [
              0.3333333333333333,
              "#9c179e"
             ],
             [
              0.4444444444444444,
              "#bd3786"
             ],
             [
              0.5555555555555556,
              "#d8576b"
             ],
             [
              0.6666666666666666,
              "#ed7953"
             ],
             [
              0.7777777777777778,
              "#fb9f3a"
             ],
             [
              0.8888888888888888,
              "#fdca26"
             ],
             [
              1,
              "#f0f921"
             ]
            ],
            "type": "histogram2d"
           }
          ],
          "histogram2dcontour": [
           {
            "colorbar": {
             "outlinewidth": 0,
             "ticks": ""
            },
            "colorscale": [
             [
              0,
              "#0d0887"
             ],
             [
              0.1111111111111111,
              "#46039f"
             ],
             [
              0.2222222222222222,
              "#7201a8"
             ],
             [
              0.3333333333333333,
              "#9c179e"
             ],
             [
              0.4444444444444444,
              "#bd3786"
             ],
             [
              0.5555555555555556,
              "#d8576b"
             ],
             [
              0.6666666666666666,
              "#ed7953"
             ],
             [
              0.7777777777777778,
              "#fb9f3a"
             ],
             [
              0.8888888888888888,
              "#fdca26"
             ],
             [
              1,
              "#f0f921"
             ]
            ],
            "type": "histogram2dcontour"
           }
          ],
          "mesh3d": [
           {
            "colorbar": {
             "outlinewidth": 0,
             "ticks": ""
            },
            "type": "mesh3d"
           }
          ],
          "parcoords": [
           {
            "line": {
             "colorbar": {
              "outlinewidth": 0,
              "ticks": ""
             }
            },
            "type": "parcoords"
           }
          ],
          "pie": [
           {
            "automargin": true,
            "type": "pie"
           }
          ],
          "scatter": [
           {
            "fillpattern": {
             "fillmode": "overlay",
             "size": 10,
             "solidity": 0.2
            },
            "type": "scatter"
           }
          ],
          "scatter3d": [
           {
            "line": {
             "colorbar": {
              "outlinewidth": 0,
              "ticks": ""
             }
            },
            "marker": {
             "colorbar": {
              "outlinewidth": 0,
              "ticks": ""
             }
            },
            "type": "scatter3d"
           }
          ],
          "scattercarpet": [
           {
            "marker": {
             "colorbar": {
              "outlinewidth": 0,
              "ticks": ""
             }
            },
            "type": "scattercarpet"
           }
          ],
          "scattergeo": [
           {
            "marker": {
             "colorbar": {
              "outlinewidth": 0,
              "ticks": ""
             }
            },
            "type": "scattergeo"
           }
          ],
          "scattergl": [
           {
            "marker": {
             "colorbar": {
              "outlinewidth": 0,
              "ticks": ""
             }
            },
            "type": "scattergl"
           }
          ],
          "scattermapbox": [
           {
            "marker": {
             "colorbar": {
              "outlinewidth": 0,
              "ticks": ""
             }
            },
            "type": "scattermapbox"
           }
          ],
          "scatterpolar": [
           {
            "marker": {
             "colorbar": {
              "outlinewidth": 0,
              "ticks": ""
             }
            },
            "type": "scatterpolar"
           }
          ],
          "scatterpolargl": [
           {
            "marker": {
             "colorbar": {
              "outlinewidth": 0,
              "ticks": ""
             }
            },
            "type": "scatterpolargl"
           }
          ],
          "scatterternary": [
           {
            "marker": {
             "colorbar": {
              "outlinewidth": 0,
              "ticks": ""
             }
            },
            "type": "scatterternary"
           }
          ],
          "surface": [
           {
            "colorbar": {
             "outlinewidth": 0,
             "ticks": ""
            },
            "colorscale": [
             [
              0,
              "#0d0887"
             ],
             [
              0.1111111111111111,
              "#46039f"
             ],
             [
              0.2222222222222222,
              "#7201a8"
             ],
             [
              0.3333333333333333,
              "#9c179e"
             ],
             [
              0.4444444444444444,
              "#bd3786"
             ],
             [
              0.5555555555555556,
              "#d8576b"
             ],
             [
              0.6666666666666666,
              "#ed7953"
             ],
             [
              0.7777777777777778,
              "#fb9f3a"
             ],
             [
              0.8888888888888888,
              "#fdca26"
             ],
             [
              1,
              "#f0f921"
             ]
            ],
            "type": "surface"
           }
          ],
          "table": [
           {
            "cells": {
             "fill": {
              "color": "#EBF0F8"
             },
             "line": {
              "color": "white"
             }
            },
            "header": {
             "fill": {
              "color": "#C8D4E3"
             },
             "line": {
              "color": "white"
             }
            },
            "type": "table"
           }
          ]
         },
         "layout": {
          "annotationdefaults": {
           "arrowcolor": "#2a3f5f",
           "arrowhead": 0,
           "arrowwidth": 1
          },
          "autotypenumbers": "strict",
          "coloraxis": {
           "colorbar": {
            "outlinewidth": 0,
            "ticks": ""
           }
          },
          "colorscale": {
           "diverging": [
            [
             0,
             "#8e0152"
            ],
            [
             0.1,
             "#c51b7d"
            ],
            [
             0.2,
             "#de77ae"
            ],
            [
             0.3,
             "#f1b6da"
            ],
            [
             0.4,
             "#fde0ef"
            ],
            [
             0.5,
             "#f7f7f7"
            ],
            [
             0.6,
             "#e6f5d0"
            ],
            [
             0.7,
             "#b8e186"
            ],
            [
             0.8,
             "#7fbc41"
            ],
            [
             0.9,
             "#4d9221"
            ],
            [
             1,
             "#276419"
            ]
           ],
           "sequential": [
            [
             0,
             "#0d0887"
            ],
            [
             0.1111111111111111,
             "#46039f"
            ],
            [
             0.2222222222222222,
             "#7201a8"
            ],
            [
             0.3333333333333333,
             "#9c179e"
            ],
            [
             0.4444444444444444,
             "#bd3786"
            ],
            [
             0.5555555555555556,
             "#d8576b"
            ],
            [
             0.6666666666666666,
             "#ed7953"
            ],
            [
             0.7777777777777778,
             "#fb9f3a"
            ],
            [
             0.8888888888888888,
             "#fdca26"
            ],
            [
             1,
             "#f0f921"
            ]
           ],
           "sequentialminus": [
            [
             0,
             "#0d0887"
            ],
            [
             0.1111111111111111,
             "#46039f"
            ],
            [
             0.2222222222222222,
             "#7201a8"
            ],
            [
             0.3333333333333333,
             "#9c179e"
            ],
            [
             0.4444444444444444,
             "#bd3786"
            ],
            [
             0.5555555555555556,
             "#d8576b"
            ],
            [
             0.6666666666666666,
             "#ed7953"
            ],
            [
             0.7777777777777778,
             "#fb9f3a"
            ],
            [
             0.8888888888888888,
             "#fdca26"
            ],
            [
             1,
             "#f0f921"
            ]
           ]
          },
          "colorway": [
           "#636efa",
           "#EF553B",
           "#00cc96",
           "#ab63fa",
           "#FFA15A",
           "#19d3f3",
           "#FF6692",
           "#B6E880",
           "#FF97FF",
           "#FECB52"
          ],
          "font": {
           "color": "#2a3f5f"
          },
          "geo": {
           "bgcolor": "white",
           "lakecolor": "white",
           "landcolor": "#E5ECF6",
           "showlakes": true,
           "showland": true,
           "subunitcolor": "white"
          },
          "hoverlabel": {
           "align": "left"
          },
          "hovermode": "closest",
          "mapbox": {
           "style": "light"
          },
          "paper_bgcolor": "white",
          "plot_bgcolor": "#E5ECF6",
          "polar": {
           "angularaxis": {
            "gridcolor": "white",
            "linecolor": "white",
            "ticks": ""
           },
           "bgcolor": "#E5ECF6",
           "radialaxis": {
            "gridcolor": "white",
            "linecolor": "white",
            "ticks": ""
           }
          },
          "scene": {
           "xaxis": {
            "backgroundcolor": "#E5ECF6",
            "gridcolor": "white",
            "gridwidth": 2,
            "linecolor": "white",
            "showbackground": true,
            "ticks": "",
            "zerolinecolor": "white"
           },
           "yaxis": {
            "backgroundcolor": "#E5ECF6",
            "gridcolor": "white",
            "gridwidth": 2,
            "linecolor": "white",
            "showbackground": true,
            "ticks": "",
            "zerolinecolor": "white"
           },
           "zaxis": {
            "backgroundcolor": "#E5ECF6",
            "gridcolor": "white",
            "gridwidth": 2,
            "linecolor": "white",
            "showbackground": true,
            "ticks": "",
            "zerolinecolor": "white"
           }
          },
          "shapedefaults": {
           "line": {
            "color": "#2a3f5f"
           }
          },
          "ternary": {
           "aaxis": {
            "gridcolor": "white",
            "linecolor": "white",
            "ticks": ""
           },
           "baxis": {
            "gridcolor": "white",
            "linecolor": "white",
            "ticks": ""
           },
           "bgcolor": "#E5ECF6",
           "caxis": {
            "gridcolor": "white",
            "linecolor": "white",
            "ticks": ""
           }
          },
          "title": {
           "x": 0.05
          },
          "xaxis": {
           "automargin": true,
           "gridcolor": "white",
           "linecolor": "white",
           "ticks": "",
           "title": {
            "standoff": 15
           },
           "zerolinecolor": "white",
           "zerolinewidth": 2
          },
          "yaxis": {
           "automargin": true,
           "gridcolor": "white",
           "linecolor": "white",
           "ticks": "",
           "title": {
            "standoff": 15
           },
           "zerolinecolor": "white",
           "zerolinewidth": 2
          }
         }
        },
        "title": {
         "text": "Сравнение объема продаж протестированных акций"
        },
        "width": 1000,
        "xaxis": {
         "anchor": "y",
         "autorange": true,
         "categoryarray": [
          1,
          2,
          3
         ],
         "categoryorder": "array",
         "domain": [
          0,
          1
         ],
         "range": [
          0.5,
          3.5
         ],
         "title": {
          "text": "Протестированные акции"
         },
         "type": "linear"
        },
        "yaxis": {
         "anchor": "x",
         "autorange": true,
         "domain": [
          0,
          1
         ],
         "range": [
          13.82375000000001,
          93.49874999999999
         ],
         "title": {
          "text": "Объем продаж"
         },
         "type": "linear"
        }
       }
      },
      "image/png": "[encoded data removed]",
      "text/html": [
       "<div>                            <div id=\"5011c5ce-ccc8-4d59-ad60-e1a96a067a04\" class=\"plotly-graph-div\" style=\"height:600px; width:1000px;\"></div>            <script type=\"text/javascript\">                require([\"plotly\"], function(Plotly) {                    window.PLOTLYENV=window.PLOTLYENV || {};                                    if (document.getElementById(\"5011c5ce-ccc8-4d59-ad60-e1a96a067a04\")) {                    Plotly.newPlot(                        \"5011c5ce-ccc8-4d59-ad60-e1a96a067a04\",                        [{\"alignmentgroup\":\"True\",\"hovertemplate\":\"Promotion=%{x}\\u003cbr\\u003eSalesInThousands=%{y}\\u003cextra\\u003e\\u003c\\u002fextra\\u003e\",\"legendgroup\":\"1\",\"marker\":{\"color\":\"#636efa\"},\"name\":\"1\",\"notched\":false,\"offsetgroup\":\"1\",\"orientation\":\"v\",\"showlegend\":true,\"x\":[1,1,1,1,1,1,1,1,1,1,1,1,1,1,1,1,1,1,1,1,1,1,1,1,1,1,1,1,1,1,1,1,1,1,1,1,1,1,1,1,1,1,1,1,1,1,1,1,1,1,1,1,1,1,1,1,1,1,1,1,1,1,1,1,1,1,1,1,1,1,1,1,1,1,1,1,1,1,1,1,1,1,1,1,1,1,1,1,1,1,1,1,1,1,1,1,1,1,1,1,1,1,1,1,1,1,1,1,1,1,1,1,1,1,1,1,1,1,1,1,1,1,1,1,1,1,1,1,1,1,1,1,1,1,1,1,1,1,1,1,1,1,1,1,1,1,1,1,1,1,1,1,1,1,1,1,1,1,1,1,1,1,1,1,1,1,1,1,1,1,1,1],\"x0\":\" \",\"xaxis\":\"x\",\"y\":[44.54,37.94,45.49,34.75,42.92,42.16,51.72,36.17,37.41,38.64,40.9,41.11,35.85,36.24,41.73,37.32,50.48,36.88,35.68,46.45,67.48,65.57,68.42,60.93,88.73,85.21,81.55,89.51499999999999,89.51499999999999,89.51499999999999,89.51499999999999,89.51499999999999,85.11,88.07,89.51499999999999,89.44,89.51499999999999,80.61,89.51499999999999,83.43,89.51499999999999,88.64,86.96,89.25,87.08,89.32,89.51499999999999,85.85,89.51499999999999,85.71,77.36,89.51499999999999,55.94,61.36,56.19,62.06,54.01,63.48,61.96,55.3,53.79,66.96,57.1,65.12,62.16,54.06,51.72,59.64,49.95,55.11,55.28,54.7,59.34,62.63,49.08,58.04,42.16,36.8,46.98,47.35,40.46,41.25,32.05,47.5,35.3,35.86,49.3,30.81,44.98,41.71,41.1,40.97,41.1,41.56,36.39,39.67,53.38,55.31,56.1,43.24,48.18,43.11,43.78,56.9,53.53,47.92,56.18,46.66,42.76,50.52,56.86,47.51,51.82,45.02,49.44,51.32,52.85,40.84,64.45,44.43,56.64,46.06,55.46,51.41,56.99,45.57,45.92,50.52,54.95,55.78,46.49,56.84,65.11,54.38,57.14,49.91,50.54,58.43,59.77,60.44,49.3,61.8,58.0,55.2,61.53,59.17,63.73,61.77,58.19,62.72,66.66,64.66,66.34,60.59,61.95,67.84,62.33,53.68,62.37,63.58,53.51,49.76,68.31,66.1,49.62,62.54,50.11,61.63,59.87,62.99,57.2,64.34],\"y0\":\" \",\"yaxis\":\"y\",\"type\":\"box\"},{\"alignmentgroup\":\"True\",\"hovertemplate\":\"Promotion=%{x}\\u003cbr\\u003eSalesInThousands=%{y}\\u003cextra\\u003e\\u003c\\u002fextra\\u003e\",\"legendgroup\":\"2\",\"marker\":{\"color\":\"#EF553B\"},\"name\":\"2\",\"notched\":false,\"offsetgroup\":\"2\",\"orientation\":\"v\",\"showlegend\":true,\"x\":[2,2,2,2,2,2,2,2,2,2,2,2,2,2,2,2,2,2,2,2,2,2,2,2,2,2,2,2,2,2,2,2,2,2,2,2,2,2,2,2,2,2,2,2,2,2,2,2,2,2,2,2,2,2,2,2,2,2,2,2,2,2,2,2,2,2,2,2,2,2,2,2,2,2,2,2,2,2,2,2,2,2,2,2,2,2,2,2,2,2,2,2,2,2,2,2,2,2,2,2,2,2,2,2,2,2,2,2,2,2,2,2,2,2,2,2,2,2,2,2,2,2,2,2,2,2,2,2,2,2,2,2,2,2,2,2,2,2,2,2,2,2,2,2,2,2,2,2,2,2,2,2,2,2,2,2,2,2,2,2,2,2,2,2,2,2,2,2,2,2,2,2,2,2,2,2,2,2,2,2,2,2,2,2,2,2,2,2],\"x0\":\" \",\"xaxis\":\"x\",\"y\":[27.81,34.67,27.98,27.72,39.28,39.8,24.77,30.98,30.37,24.82,37.47,23.35,30.08,28.62,25.4,27.26,34.27,29.3,23.93,35.16,72.10749999999999,72.10749999999999,72.10749999999999,72.10749999999999,72.10749999999999,72.10749999999999,72.10749999999999,72.10749999999999,72.10749999999999,72.10749999999999,72.10749999999999,72.10749999999999,72.10749999999999,72.10749999999999,72.10749999999999,72.10749999999999,66.22,72.10749999999999,72.10749999999999,72.10749999999999,72.10749999999999,72.10749999999999,72.10749999999999,72.10749999999999,49.61,43.69,54.49,61.25,47.89,52.37,49.11,52.88,46.98,53.41,36.17,55.98,51.87,58.01,47.93,51.33,40.4,50.28,52.72,38.3,51.79,42.56,44.64,45.11,42.15,42.59,49.56,39.25,48.18,48.25,46.42,43.77,45.3,48.84,45.08,44.67,47.33,45.42,44.31,40.26,43.27,48.33,44.14,51.5,46.26,47.71,54.09,46.89,31.94,29.64,33.64,36.05,36.7,41.53,27.71,37.2,32.21,38.41,37.9,44.84,37.45,35.46,31.85,19.26,38.65,17.807500000000008,33.14,23.44,32.77,30.26,27.55,27.37,40.71,38.26,41.44,25.7,49.39,40.25,42.46,31.62,38.56,37.29,35.6,33.35,48.5,36.8,48.32,41.54,32.61,57.27,37.32,41.22,39.73,50.3,40.16,41.37,48.76,44.14,58.1,44.16,46.02,51.09,51.68,55.91,53.76,39.36,47.2,53.66,51.09,54.82,44.16,53.95,51.26,51.73,51.35,41.85,45.21,55.02,45.35,47.06,43.59,46.03,47.22,51.41,55.39,49.16,58.26,48.12,49.98,44.84,55.12,47.36,44.7,43.44,52.36,45.9,43.61,46.2,51.52,49.71,50.2,45.75,44.29,49.41],\"y0\":\" \",\"yaxis\":\"y\",\"type\":\"box\"},{\"alignmentgroup\":\"True\",\"hovertemplate\":\"Promotion=%{x}\\u003cbr\\u003eSalesInThousands=%{y}\\u003cextra\\u003e\\u003c\\u002fextra\\u003e\",\"legendgroup\":\"3\",\"marker\":{\"color\":\"#00cc96\"},\"name\":\"3\",\"notched\":false,\"offsetgroup\":\"3\",\"orientation\":\"v\",\"showlegend\":true,\"x\":[3,3,3,3,3,3,3,3,3,3,3,3,3,3,3,3,3,3,3,3,3,3,3,3,3,3,3,3,3,3,3,3,3,3,3,3,3,3,3,3,3,3,3,3,3,3,3,3,3,3,3,3,3,3,3,3,3,3,3,3,3,3,3,3,3,3,3,3,3,3,3,3,3,3,3,3,3,3,3,3,3,3,3,3,3,3,3,3,3,3,3,3,3,3,3,3,3,3,3,3,3,3,3,3,3,3,3,3,3,3,3,3,3,3,3,3,3,3,3,3,3,3,3,3,3,3,3,3,3,3,3,3,3,3,3,3,3,3,3,3,3,3,3,3,3,3,3,3,3,3,3,3,3,3,3,3,3,3,3,3,3,3,3,3,3,3,3,3,3,3,3,3,3,3,3,3,3,3,3,3,3,3,3,3,3,3,3,3],\"x0\":\" \",\"xaxis\":\"x\",\"y\":[33.73,35.67,29.03,39.25,32.9,22.18,42.98,26.68,33.42,37.93,33.85,40.25,61.59,63.64,54.68,61.24,62.93,58.77,70.6,65.06,59.76,66.11,62.16,64.04,59.65,57.04,59.73,56.72,58.55,62.19,53.14,62.27,86.14,82.56,79.36,77.17,88.035,78.43,84.05,81.18,83.02,88.035,85.18,88.035,82.64,82.89,82.13,88.035,87.7,81.16,81.58,88.035,88.035,84.13,88.035,81.72,84.34,87.9,76.12,82.72,88.035,74.75,88.035,80.82,88.035,79.02,86.11,82.88,51.47,53.47,46.83,56.7,52.23,51.68,46.22,46.03,45.56,55.19,37.84,50.07,50.11,55.59,54.37,51.91,57.37,55.53,51.16,57.06,50.59,48.64,50.55,49.08,24.75,41.47,35.1,34.33,37.17,30.52,32.51,29.12,47.48,39.41,43.29,42.59,34.46,40.13,32.18,43.73,49.01,46.29,37.14,42.82,47.22,35.24,47.22,43.15,40.29,48.35,43.26,44.2,46.14,41.12,45.03,38.85,41.96,42.27,38.51,43.51,40.43,51.15,42.5,52.76,47.63,52.21,40.17,48.36,53.56,49.72,48.77,46.84,49.67,49.98,49.5,47.35,50.26,52.05,51.14,46.3,54.79,52.39,42.15,49.63,48.06,51.09,44.19,49.52,44.66,53.78,43.91,52.41,50.94,49.38,63.98,45.84,51.01,56.16,45.77,46.47,55.9,59.8,60.97,64.14,39.98,54.58,52.64,45.43,51.89,51.17,54.33,50.05,54.34,60.24,56.39,58.33,53.5,56.34,51.83,50.2],\"y0\":\" \",\"yaxis\":\"y\",\"type\":\"box\"}],                        {\"template\":{\"data\":{\"histogram2dcontour\":[{\"type\":\"histogram2dcontour\",\"colorbar\":{\"outlinewidth\":0,\"ticks\":\"\"},\"colorscale\":[[0.0,\"#0d0887\"],[0.1111111111111111,\"#46039f\"],[0.2222222222222222,\"#7201a8\"],[0.3333333333333333,\"#9c179e\"],[0.4444444444444444,\"#bd3786\"],[0.5555555555555556,\"#d8576b\"],[0.6666666666666666,\"#ed7953\"],[0.7777777777777778,\"#fb9f3a\"],[0.8888888888888888,\"#fdca26\"],[1.0,\"#f0f921\"]]}],\"choropleth\":[{\"type\":\"choropleth\",\"colorbar\":{\"outlinewidth\":0,\"ticks\":\"\"}}],\"histogram2d\":[{\"type\":\"histogram2d\",\"colorbar\":{\"outlinewidth\":0,\"ticks\":\"\"},\"colorscale\":[[0.0,\"#0d0887\"],[0.1111111111111111,\"#46039f\"],[0.2222222222222222,\"#7201a8\"],[0.3333333333333333,\"#9c179e\"],[0.4444444444444444,\"#bd3786\"],[0.5555555555555556,\"#d8576b\"],[0.6666666666666666,\"#ed7953\"],[0.7777777777777778,\"#fb9f3a\"],[0.8888888888888888,\"#fdca26\"],[1.0,\"#f0f921\"]]}],\"heatmap\":[{\"type\":\"heatmap\",\"colorbar\":{\"outlinewidth\":0,\"ticks\":\"\"},\"colorscale\":[[0.0,\"#0d0887\"],[0.1111111111111111,\"#46039f\"],[0.2222222222222222,\"#7201a8\"],[0.3333333333333333,\"#9c179e\"],[0.4444444444444444,\"#bd3786\"],[0.5555555555555556,\"#d8576b\"],[0.6666666666666666,\"#ed7953\"],[0.7777777777777778,\"#fb9f3a\"],[0.8888888888888888,\"#fdca26\"],[1.0,\"#f0f921\"]]}],\"heatmapgl\":[{\"type\":\"heatmapgl\",\"colorbar\":{\"outlinewidth\":0,\"ticks\":\"\"},\"colorscale\":[[0.0,\"#0d0887\"],[0.1111111111111111,\"#46039f\"],[0.2222222222222222,\"#7201a8\"],[0.3333333333333333,\"#9c179e\"],[0.4444444444444444,\"#bd3786\"],[0.5555555555555556,\"#d8576b\"],[0.6666666666666666,\"#ed7953\"],[0.7777777777777778,\"#fb9f3a\"],[0.8888888888888888,\"#fdca26\"],[1.0,\"#f0f921\"]]}],\"contourcarpet\":[{\"type\":\"contourcarpet\",\"colorbar\":{\"outlinewidth\":0,\"ticks\":\"\"}}],\"contour\":[{\"type\":\"contour\",\"colorbar\":{\"outlinewidth\":0,\"ticks\":\"\"},\"colorscale\":[[0.0,\"#0d0887\"],[0.1111111111111111,\"#46039f\"],[0.2222222222222222,\"#7201a8\"],[0.3333333333333333,\"#9c179e\"],[0.4444444444444444,\"#bd3786\"],[0.5555555555555556,\"#d8576b\"],[0.6666666666666666,\"#ed7953\"],[0.7777777777777778,\"#fb9f3a\"],[0.8888888888888888,\"#fdca26\"],[1.0,\"#f0f921\"]]}],\"surface\":[{\"type\":\"surface\",\"colorbar\":{\"outlinewidth\":0,\"ticks\":\"\"},\"colorscale\":[[0.0,\"#0d0887\"],[0.1111111111111111,\"#46039f\"],[0.2222222222222222,\"#7201a8\"],[0.3333333333333333,\"#9c179e\"],[0.4444444444444444,\"#bd3786\"],[0.5555555555555556,\"#d8576b\"],[0.6666666666666666,\"#ed7953\"],[0.7777777777777778,\"#fb9f3a\"],[0.8888888888888888,\"#fdca26\"],[1.0,\"#f0f921\"]]}],\"mesh3d\":[{\"type\":\"mesh3d\",\"colorbar\":{\"outlinewidth\":0,\"ticks\":\"\"}}],\"scatter\":[{\"fillpattern\":{\"fillmode\":\"overlay\",\"size\":10,\"solidity\":0.2},\"type\":\"scatter\"}],\"parcoords\":[{\"type\":\"parcoords\",\"line\":{\"colorbar\":{\"outlinewidth\":0,\"ticks\":\"\"}}}],\"scatterpolargl\":[{\"type\":\"scatterpolargl\",\"marker\":{\"colorbar\":{\"outlinewidth\":0,\"ticks\":\"\"}}}],\"bar\":[{\"error_x\":{\"color\":\"#2a3f5f\"},\"error_y\":{\"color\":\"#2a3f5f\"},\"marker\":{\"line\":{\"color\":\"#E5ECF6\",\"width\":0.5},\"pattern\":{\"fillmode\":\"overlay\",\"size\":10,\"solidity\":0.2}},\"type\":\"bar\"}],\"scattergeo\":[{\"type\":\"scattergeo\",\"marker\":{\"colorbar\":{\"outlinewidth\":0,\"ticks\":\"\"}}}],\"scatterpolar\":[{\"type\":\"scatterpolar\",\"marker\":{\"colorbar\":{\"outlinewidth\":0,\"ticks\":\"\"}}}],\"histogram\":[{\"marker\":{\"pattern\":{\"fillmode\":\"overlay\",\"size\":10,\"solidity\":0.2}},\"type\":\"histogram\"}],\"scattergl\":[{\"type\":\"scattergl\",\"marker\":{\"colorbar\":{\"outlinewidth\":0,\"ticks\":\"\"}}}],\"scatter3d\":[{\"type\":\"scatter3d\",\"line\":{\"colorbar\":{\"outlinewidth\":0,\"ticks\":\"\"}},\"marker\":{\"colorbar\":{\"outlinewidth\":0,\"ticks\":\"\"}}}],\"scattermapbox\":[{\"type\":\"scattermapbox\",\"marker\":{\"colorbar\":{\"outlinewidth\":0,\"ticks\":\"\"}}}],\"scatterternary\":[{\"type\":\"scatterternary\",\"marker\":{\"colorbar\":{\"outlinewidth\":0,\"ticks\":\"\"}}}],\"scattercarpet\":[{\"type\":\"scattercarpet\",\"marker\":{\"colorbar\":{\"outlinewidth\":0,\"ticks\":\"\"}}}],\"carpet\":[{\"aaxis\":{\"endlinecolor\":\"#2a3f5f\",\"gridcolor\":\"white\",\"linecolor\":\"white\",\"minorgridcolor\":\"white\",\"startlinecolor\":\"#2a3f5f\"},\"baxis\":{\"endlinecolor\":\"#2a3f5f\",\"gridcolor\":\"white\",\"linecolor\":\"white\",\"minorgridcolor\":\"white\",\"startlinecolor\":\"#2a3f5f\"},\"type\":\"carpet\"}],\"table\":[{\"cells\":{\"fill\":{\"color\":\"#EBF0F8\"},\"line\":{\"color\":\"white\"}},\"header\":{\"fill\":{\"color\":\"#C8D4E3\"},\"line\":{\"color\":\"white\"}},\"type\":\"table\"}],\"barpolar\":[{\"marker\":{\"line\":{\"color\":\"#E5ECF6\",\"width\":0.5},\"pattern\":{\"fillmode\":\"overlay\",\"size\":10,\"solidity\":0.2}},\"type\":\"barpolar\"}],\"pie\":[{\"automargin\":true,\"type\":\"pie\"}]},\"layout\":{\"autotypenumbers\":\"strict\",\"colorway\":[\"#636efa\",\"#EF553B\",\"#00cc96\",\"#ab63fa\",\"#FFA15A\",\"#19d3f3\",\"#FF6692\",\"#B6E880\",\"#FF97FF\",\"#FECB52\"],\"font\":{\"color\":\"#2a3f5f\"},\"hovermode\":\"closest\",\"hoverlabel\":{\"align\":\"left\"},\"paper_bgcolor\":\"white\",\"plot_bgcolor\":\"#E5ECF6\",\"polar\":{\"bgcolor\":\"#E5ECF6\",\"angularaxis\":{\"gridcolor\":\"white\",\"linecolor\":\"white\",\"ticks\":\"\"},\"radialaxis\":{\"gridcolor\":\"white\",\"linecolor\":\"white\",\"ticks\":\"\"}},\"ternary\":{\"bgcolor\":\"#E5ECF6\",\"aaxis\":{\"gridcolor\":\"white\",\"linecolor\":\"white\",\"ticks\":\"\"},\"baxis\":{\"gridcolor\":\"white\",\"linecolor\":\"white\",\"ticks\":\"\"},\"caxis\":{\"gridcolor\":\"white\",\"linecolor\":\"white\",\"ticks\":\"\"}},\"coloraxis\":{\"colorbar\":{\"outlinewidth\":0,\"ticks\":\"\"}},\"colorscale\":{\"sequential\":[[0.0,\"#0d0887\"],[0.1111111111111111,\"#46039f\"],[0.2222222222222222,\"#7201a8\"],[0.3333333333333333,\"#9c179e\"],[0.4444444444444444,\"#bd3786\"],[0.5555555555555556,\"#d8576b\"],[0.6666666666666666,\"#ed7953\"],[0.7777777777777778,\"#fb9f3a\"],[0.8888888888888888,\"#fdca26\"],[1.0,\"#f0f921\"]],\"sequentialminus\":[[0.0,\"#0d0887\"],[0.1111111111111111,\"#46039f\"],[0.2222222222222222,\"#7201a8\"],[0.3333333333333333,\"#9c179e\"],[0.4444444444444444,\"#bd3786\"],[0.5555555555555556,\"#d8576b\"],[0.6666666666666666,\"#ed7953\"],[0.7777777777777778,\"#fb9f3a\"],[0.8888888888888888,\"#fdca26\"],[1.0,\"#f0f921\"]],\"diverging\":[[0,\"#8e0152\"],[0.1,\"#c51b7d\"],[0.2,\"#de77ae\"],[0.3,\"#f1b6da\"],[0.4,\"#fde0ef\"],[0.5,\"#f7f7f7\"],[0.6,\"#e6f5d0\"],[0.7,\"#b8e186\"],[0.8,\"#7fbc41\"],[0.9,\"#4d9221\"],[1,\"#276419\"]]},\"xaxis\":{\"gridcolor\":\"white\",\"linecolor\":\"white\",\"ticks\":\"\",\"title\":{\"standoff\":15},\"zerolinecolor\":\"white\",\"automargin\":true,\"zerolinewidth\":2},\"yaxis\":{\"gridcolor\":\"white\",\"linecolor\":\"white\",\"ticks\":\"\",\"title\":{\"standoff\":15},\"zerolinecolor\":\"white\",\"automargin\":true,\"zerolinewidth\":2},\"scene\":{\"xaxis\":{\"backgroundcolor\":\"#E5ECF6\",\"gridcolor\":\"white\",\"linecolor\":\"white\",\"showbackground\":true,\"ticks\":\"\",\"zerolinecolor\":\"white\",\"gridwidth\":2},\"yaxis\":{\"backgroundcolor\":\"#E5ECF6\",\"gridcolor\":\"white\",\"linecolor\":\"white\",\"showbackground\":true,\"ticks\":\"\",\"zerolinecolor\":\"white\",\"gridwidth\":2},\"zaxis\":{\"backgroundcolor\":\"#E5ECF6\",\"gridcolor\":\"white\",\"linecolor\":\"white\",\"showbackground\":true,\"ticks\":\"\",\"zerolinecolor\":\"white\",\"gridwidth\":2}},\"shapedefaults\":{\"line\":{\"color\":\"#2a3f5f\"}},\"annotationdefaults\":{\"arrowcolor\":\"#2a3f5f\",\"arrowhead\":0,\"arrowwidth\":1},\"geo\":{\"bgcolor\":\"white\",\"landcolor\":\"#E5ECF6\",\"subunitcolor\":\"white\",\"showland\":true,\"showlakes\":true,\"lakecolor\":\"white\"},\"title\":{\"x\":0.05},\"mapbox\":{\"style\":\"light\"}}},\"xaxis\":{\"anchor\":\"y\",\"domain\":[0.0,1.0],\"title\":{\"text\":\"\\u041f\\u0440\\u043e\\u0442\\u0435\\u0441\\u0442\\u0438\\u0440\\u043e\\u0432\\u0430\\u043d\\u043d\\u044b\\u0435 \\u0430\\u043a\\u0446\\u0438\\u0438\"},\"categoryorder\":\"array\",\"categoryarray\":[1,2,3]},\"yaxis\":{\"anchor\":\"x\",\"domain\":[0.0,1.0],\"title\":{\"text\":\"\\u041e\\u0431\\u044a\\u0435\\u043c \\u043f\\u0440\\u043e\\u0434\\u0430\\u0436\"}},\"legend\":{\"title\":{\"text\":\"\\u0422\\u0438\\u043f \\u0430\\u043a\\u0446\\u0438\\u0438\"},\"tracegroupgap\":0},\"margin\":{\"t\":60},\"boxmode\":\"overlay\",\"title\":{\"text\":\"\\u0421\\u0440\\u0430\\u0432\\u043d\\u0435\\u043d\\u0438\\u0435 \\u043e\\u0431\\u044a\\u0435\\u043c\\u0430 \\u043f\\u0440\\u043e\\u0434\\u0430\\u0436 \\u043f\\u0440\\u043e\\u0442\\u0435\\u0441\\u0442\\u0438\\u0440\\u043e\\u0432\\u0430\\u043d\\u043d\\u044b\\u0445 \\u0430\\u043a\\u0446\\u0438\\u0439\"},\"width\":1000,\"height\":600},                        {\"responsive\": true}                    ).then(function(){\n",
       "                            \n",
       "var gd = document.getElementById('5011c5ce-ccc8-4d59-ad60-e1a96a067a04');\n",
       "var x = new MutationObserver(function (mutations, observer) {{\n",
       "        var display = window.getComputedStyle(gd).display;\n",
       "        if (!display || display === 'none') {{\n",
       "            console.log([gd, 'removed!']);\n",
       "            Plotly.purge(gd);\n",
       "            observer.disconnect();\n",
       "        }}\n",
       "}});\n",
       "\n",
       "// Listen for the removal of the full notebook cells\n",
       "var notebookContainer = gd.closest('#notebook-container');\n",
       "if (notebookContainer) {{\n",
       "    x.observe(notebookContainer, {childList: true});\n",
       "}}\n",
       "\n",
       "// Listen for the clearing of the current output cell\n",
       "var outputEl = gd.closest('.output');\n",
       "if (outputEl) {{\n",
       "    x.observe(outputEl, {childList: true});\n",
       "}}\n",
       "\n",
       "                        })                };                });            </script>        </div>"
      ]
     },
     "metadata": {},
     "output_type": "display_data"
    }
   ],
   "source": [
    "# построим \"ящик с усами\" с помощью plotly\n",
    "fig = px.box(df_new, x=\"Promotion\", y=\"SalesInThousands\", color=\"Promotion\")\n",
    "\n",
    "fig.update_layout(\n",
    "    title='Сравнение объема продаж протестированных акций',\n",
    "    xaxis_title='Протестированные акции',\n",
    "    yaxis_title='Объем продаж',\n",
    "    legend_title=\"Тип акции\",\n",
    "    width=1000,\n",
    "    height=600\n",
    ")\n",
    "\n",
    "fig.show()"
   ]
  },
  {
   "cell_type": "markdown",
   "id": "2b8ec77c-d862-4ffb-8f53-12b05ee33374",
   "metadata": {},
   "source": [
    "Выбросов больше нет, можем приступать к A/B-тестированию."
   ]
  },
  {
   "cell_type": "code",
   "execution_count": 244,
   "id": "6e1eba43-5487-49cd-a3dd-79809fafcc26",
   "metadata": {},
   "outputs": [
    {
     "data": {
      "text/html": [
       "<div>\n",
       "<style scoped>\n",
       "    .dataframe tbody tr th:only-of-type {\n",
       "        vertical-align: middle;\n",
       "    }\n",
       "\n",
       "    .dataframe tbody tr th {\n",
       "        vertical-align: top;\n",
       "    }\n",
       "\n",
       "    .dataframe thead th {\n",
       "        text-align: right;\n",
       "    }\n",
       "</style>\n",
       "<table border=\"1\" class=\"dataframe\">\n",
       "  <thead>\n",
       "    <tr style=\"text-align: right;\">\n",
       "      <th></th>\n",
       "      <th>Promotion</th>\n",
       "      <th>SalesInThousands</th>\n",
       "    </tr>\n",
       "  </thead>\n",
       "  <tbody>\n",
       "    <tr>\n",
       "      <th>0</th>\n",
       "      <td>1</td>\n",
       "      <td>9929.41</td>\n",
       "    </tr>\n",
       "    <tr>\n",
       "      <th>1</th>\n",
       "      <td>2</td>\n",
       "      <td>8712.88</td>\n",
       "    </tr>\n",
       "    <tr>\n",
       "      <th>2</th>\n",
       "      <td>3</td>\n",
       "      <td>10367.39</td>\n",
       "    </tr>\n",
       "  </tbody>\n",
       "</table>\n",
       "</div>"
      ],
      "text/plain": [
       "   Promotion  SalesInThousands\n",
       "0          1           9929.41\n",
       "1          2           8712.88\n",
       "2          3          10367.39"
      ]
     },
     "execution_count": 244,
     "metadata": {},
     "output_type": "execute_result"
    }
   ],
   "source": [
    "df_new.groupby(['Promotion'], as_index=False).agg({'SalesInThousands':'sum'})"
   ]
  },
  {
   "cell_type": "markdown",
   "id": "3acd0def-5fa7-4d27-b414-d91036d1bc27",
   "metadata": {},
   "source": [
    "После удаления выбросов ситуация не изменилась: наибольшие объмы продаж у 3 типа протестированной акции."
   ]
  },
  {
   "cell_type": "markdown",
   "id": "0d0663b5-0ecb-41c3-a348-d879e8e28c9c",
   "metadata": {},
   "source": [
    "### <a id=\"th_part\"></a> 3. Дисперсионный анализ (ANOVA)"
   ]
  },
  {
   "cell_type": "markdown",
   "id": "8e060170-b5c5-409e-abd8-0e2e2c5d93e9",
   "metadata": {},
   "source": [
    "Проверка дисперсий внутри групп - являются ли они одинаковыми (гомогенными). "
   ]
  },
  {
   "cell_type": "markdown",
   "id": "bbbc193f-aaf9-4fd7-ae54-dff921f7a6c1",
   "metadata": {},
   "source": [
    "Тест Левена \n",
    "1. H0: Дисперсии в выборках не имеют значимых различий.\n",
    "2. H1: Дисперсии в выборках имеют значимые различия."
   ]
  },
  {
   "cell_type": "code",
   "execution_count": 240,
   "id": "81ca1e33-4580-4549-a398-5b4d8afbb827",
   "metadata": {},
   "outputs": [
    {
     "data": {
      "text/plain": [
       "LeveneResult(statistic=3.2184808084396104, pvalue=0.04077759409279665)"
      ]
     },
     "execution_count": 240,
     "metadata": {},
     "output_type": "execute_result"
    }
   ],
   "source": [
    "# Тест Левена - scipy\n",
    "levene(df_1_prom['SalesInThousands'], df_2_prom['SalesInThousands'], df_3_prom['SalesInThousands'])"
   ]
  },
  {
   "cell_type": "code",
   "execution_count": 234,
   "id": "83b505c6-a737-4bbe-b69e-5f608f9319b4",
   "metadata": {},
   "outputs": [
    {
     "data": {
      "text/html": [
       "<div>\n",
       "<style scoped>\n",
       "    .dataframe tbody tr th:only-of-type {\n",
       "        vertical-align: middle;\n",
       "    }\n",
       "\n",
       "    .dataframe tbody tr th {\n",
       "        vertical-align: top;\n",
       "    }\n",
       "\n",
       "    .dataframe thead th {\n",
       "        text-align: right;\n",
       "    }\n",
       "</style>\n",
       "<table border=\"1\" class=\"dataframe\">\n",
       "  <thead>\n",
       "    <tr style=\"text-align: right;\">\n",
       "      <th></th>\n",
       "      <th>W</th>\n",
       "      <th>pval</th>\n",
       "      <th>equal_var</th>\n",
       "    </tr>\n",
       "  </thead>\n",
       "  <tbody>\n",
       "    <tr>\n",
       "      <th>levene</th>\n",
       "      <td>3.218481</td>\n",
       "      <td>0.040778</td>\n",
       "      <td>False</td>\n",
       "    </tr>\n",
       "  </tbody>\n",
       "</table>\n",
       "</div>"
      ],
      "text/plain": [
       "               W      pval  equal_var\n",
       "levene  3.218481  0.040778      False"
      ]
     },
     "execution_count": 234,
     "metadata": {},
     "output_type": "execute_result"
    }
   ],
   "source": [
    "# Тест Левена - pingouin\n",
    "pg.homoscedasticity(df_new, dv='SalesInThousands', group='Promotion')"
   ]
  },
  {
   "cell_type": "markdown",
   "id": "129c4cf3-13cb-49a0-a592-437e26649fa3",
   "metadata": {},
   "source": [
    "p-value < 0.05, отклоняем нулевую гипотезу."
   ]
  },
  {
   "cell_type": "markdown",
   "id": "a49ddca8-9e98-45f4-b682-0ba6801f5fb3",
   "metadata": {},
   "source": [
    "Проверка на нормальность распределения внутри групп."
   ]
  },
  {
   "cell_type": "markdown",
   "id": "72a1d28f-5e33-4c66-8d2e-b9c9f8669106",
   "metadata": {},
   "source": [
    "Тест Шапиро-Уилка\n",
    "1. H0: выборка распределена по нормальному закону\n",
    "2. H1: закон распределения не является нормальным"
   ]
  },
  {
   "cell_type": "code",
   "execution_count": 237,
   "id": "e500f15b-3626-4ef3-84bc-116c5a7b504b",
   "metadata": {},
   "outputs": [
    {
     "name": "stdout",
     "output_type": "stream",
     "text": [
      "Результаты теста для 1 типа акций: ShapiroResult(statistic=0.9138930831352003, pvalue=1.5967612705651875e-08)\n",
      "Результаты теста для 2 типа акций: ShapiroResult(statistic=0.9449333645106409, pvalue=1.2569483890935498e-06)\n",
      "Результаты теста для 3 типа акций: ShapiroResult(statistic=0.9161294460133851, pvalue=7.056882084000772e-09)\n"
     ]
    }
   ],
   "source": [
    "print(f\"Результаты теста для 1 типа акций: {shapiro(df_1_prom['SalesInThousands'])}\")\n",
    "print(f\"Результаты теста для 2 типа акций: {shapiro(df_2_prom['SalesInThousands'])}\")\n",
    "print(f\"Результаты теста для 3 типа акций: {shapiro(df_3_prom['SalesInThousands'])}\")"
   ]
  },
  {
   "cell_type": "markdown",
   "id": "a2fe746e-7bb2-4582-950a-a4dd5015aa93",
   "metadata": {},
   "source": [
    "Все представленные выборки не подчиняются закону нормального распределения."
   ]
  },
  {
   "cell_type": "markdown",
   "id": "93c76a3c-8f8d-48ba-b95d-039649f7cba1",
   "metadata": {},
   "source": [
    "Исходя из вышепроведенных тестов, необходимо использовать непараметрический ANOVA тест (Критерий Краскела-Уоллиса).\n",
    "1. H0: все группы имеют одинаковые распределения (медианы)\n",
    "2. H1: хотя бы одна пара групп имеет отличные распределения (медианы)"
   ]
  },
  {
   "cell_type": "code",
   "execution_count": 239,
   "id": "e4e8508c-3148-4af2-adf8-2440e34b482c",
   "metadata": {},
   "outputs": [
    {
     "data": {
      "text/plain": [
       "KruskalResult(statistic=55.46625555799193, pvalue=9.029332369036347e-13)"
      ]
     },
     "execution_count": 239,
     "metadata": {},
     "output_type": "execute_result"
    }
   ],
   "source": [
    "kruskal(df_1_prom['SalesInThousands'], df_2_prom['SalesInThousands'], df_3_prom['SalesInThousands'])"
   ]
  },
  {
   "cell_type": "markdown",
   "id": "68296575-72dd-40d3-a518-0a4a8351dd6b",
   "metadata": {},
   "source": [
    "p-value < 0.05, отвергаем нулевую гипотезу и принимаем альтернативную. Существуют статистически значимые различия между типами рекламных акций."
   ]
  },
  {
   "cell_type": "markdown",
   "id": "b4c8ef49-6a21-4bc2-b640-cf25d057976a",
   "metadata": {},
   "source": [
    "Проведем тест Геймса-Хоуэлла\n",
    "1. H0: средние значения во всех группах равны\n",
    "2. H1: средние значения в группе отличаются"
   ]
  },
  {
   "cell_type": "code",
   "execution_count": 246,
   "id": "63ffcc3b-1a5b-4480-bd9a-a11a79d16ac1",
   "metadata": {},
   "outputs": [
    {
     "data": {
      "text/html": [
       "<div>\n",
       "<style scoped>\n",
       "    .dataframe tbody tr th:only-of-type {\n",
       "        vertical-align: middle;\n",
       "    }\n",
       "\n",
       "    .dataframe tbody tr th {\n",
       "        vertical-align: top;\n",
       "    }\n",
       "\n",
       "    .dataframe thead th {\n",
       "        text-align: right;\n",
       "    }\n",
       "</style>\n",
       "<table border=\"1\" class=\"dataframe\">\n",
       "  <thead>\n",
       "    <tr style=\"text-align: right;\">\n",
       "      <th></th>\n",
       "      <th>A</th>\n",
       "      <th>B</th>\n",
       "      <th>mean(A)</th>\n",
       "      <th>mean(B)</th>\n",
       "      <th>diff</th>\n",
       "      <th>se</th>\n",
       "      <th>T</th>\n",
       "      <th>df</th>\n",
       "      <th>pval</th>\n",
       "      <th>hedges</th>\n",
       "    </tr>\n",
       "  </thead>\n",
       "  <tbody>\n",
       "    <tr>\n",
       "      <th>0</th>\n",
       "      <td>1</td>\n",
       "      <td>2</td>\n",
       "      <td>57.729128</td>\n",
       "      <td>46.345106</td>\n",
       "      <td>11.384022</td>\n",
       "      <td>1.528117</td>\n",
       "      <td>7.449706</td>\n",
       "      <td>331.938426</td>\n",
       "      <td>2.381428e-12</td>\n",
       "      <td>0.791166</td>\n",
       "    </tr>\n",
       "    <tr>\n",
       "      <th>1</th>\n",
       "      <td>1</td>\n",
       "      <td>3</td>\n",
       "      <td>57.729128</td>\n",
       "      <td>55.145691</td>\n",
       "      <td>2.583436</td>\n",
       "      <td>1.689463</td>\n",
       "      <td>1.529146</td>\n",
       "      <td>356.908113</td>\n",
       "      <td>2.784815e-01</td>\n",
       "      <td>0.160764</td>\n",
       "    </tr>\n",
       "    <tr>\n",
       "      <th>2</th>\n",
       "      <td>2</td>\n",
       "      <td>3</td>\n",
       "      <td>46.345106</td>\n",
       "      <td>55.145691</td>\n",
       "      <td>-8.800585</td>\n",
       "      <td>1.518220</td>\n",
       "      <td>-5.796647</td>\n",
       "      <td>355.944078</td>\n",
       "      <td>4.471047e-08</td>\n",
       "      <td>-0.596679</td>\n",
       "    </tr>\n",
       "  </tbody>\n",
       "</table>\n",
       "</div>"
      ],
      "text/plain": [
       "   A  B    mean(A)    mean(B)       diff        se         T          df  \\\n",
       "0  1  2  57.729128  46.345106  11.384022  1.528117  7.449706  331.938426   \n",
       "1  1  3  57.729128  55.145691   2.583436  1.689463  1.529146  356.908113   \n",
       "2  2  3  46.345106  55.145691  -8.800585  1.518220 -5.796647  355.944078   \n",
       "\n",
       "           pval    hedges  \n",
       "0  2.381428e-12  0.791166  \n",
       "1  2.784815e-01  0.160764  \n",
       "2  4.471047e-08 -0.596679  "
      ]
     },
     "execution_count": 246,
     "metadata": {},
     "output_type": "execute_result"
    }
   ],
   "source": [
    "pg.pairwise_gameshowell(data=df_new, dv=\"SalesInThousands\", between=\"Promotion\")"
   ]
  },
  {
   "cell_type": "markdown",
   "id": "40ff870a-c4e9-4698-87f8-b9823a57662a",
   "metadata": {},
   "source": [
    "Статистически значимые различия есть между группами:\n",
    "*  1 и 2 типом протестированных акций;\n",
    "*  2 и 3 типом протестированных акций.\n",
    "\n",
    "Средние значения объема продаж для первого типа протестированных акций являются наибольшими. Типы 1 и 3 акций не имеют значимых статистических отличий."
   ]
  },
  {
   "cell_type": "markdown",
   "id": "58b93ee9-30ce-4bf5-95be-828afd07c909",
   "metadata": {},
   "source": [
    "### <a id=\"four_part\"></a> 4. Выводы"
   ]
  },
  {
   "cell_type": "markdown",
   "id": "ab69321f-6674-482d-b78e-8f012dcf8d00",
   "metadata": {},
   "source": [
    "* Наибольшие суммарные показатели объемов продаж представлены у первого и третьего типа протестированных акций (3 тип превышает показатели 1 типа на ~4%).\n",
    "* Наибольшие средние значения объема продаж получены при тестировании первого типа акции. \n",
    "* В ходе анализа были обнаружены статистически значимые отличия между 1 и 2 типами протестированных акций, а также между 2 и 3 типами.\n",
    "* Между 1 и 3 типами протестированных акций статистически значимых отличий не наблюдается. \n",
    "* Наибольшие различия проявляются между 1 и 2 типами акций.\n",
    " \n",
    "В результате проведенного исследования, можно заключить, что первый тип протестированной акции является наилучшим."
   ]
  },
  {
   "cell_type": "code",
   "execution_count": null,
   "id": "981b9514-c658-4966-aa55-e78953d959af",
   "metadata": {},
   "outputs": [],
   "source": []
  }
 ],
 "metadata": {
  "kernelspec": {
   "display_name": "Python 3 (ipykernel)",
   "language": "python",
   "name": "python3"
  },
  "language_info": {
   "codemirror_mode": {
    "name": "ipython",
    "version": 3
   },
   "file_extension": ".py",
   "mimetype": "text/x-python",
   "name": "python",
   "nbconvert_exporter": "python",
   "pygments_lexer": "ipython3",
   "version": "3.12.7"
  }
 },
 "nbformat": 4,
 "nbformat_minor": 5
}
